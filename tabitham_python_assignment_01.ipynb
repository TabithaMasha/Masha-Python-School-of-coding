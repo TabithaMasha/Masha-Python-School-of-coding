{
 "cells": [
  {
   "cell_type": "markdown",
   "id": "17925b71",
   "metadata": {},
   "source": [
    "# Jessica Tutorial"
   ]
  },
  {
   "cell_type": "markdown",
   "id": "11d13815",
   "metadata": {},
   "source": [
    "# 1. Add up the numbers below 100 that are divisable by 3, 5 or both."
   ]
  },
  {
   "cell_type": "code",
   "execution_count": 2,
   "id": "d42aace7",
   "metadata": {},
   "outputs": [
    {
     "name": "stdout",
     "output_type": "stream",
     "text": [
      "2418\n"
     ]
    }
   ],
   "source": [
    "sum = 0\n",
    "for i in range (0,101):\n",
    "    if i % 3 == 0 or i % 5 == 0:\n",
    "        sum+= i\n",
    "print(sum)"
   ]
  },
  {
   "cell_type": "markdown",
   "id": "4126ed17",
   "metadata": {},
   "source": [
    "# 2. Make a list of the numbers that are divisable by 7 and less than 50."
   ]
  },
  {
   "cell_type": "code",
   "execution_count": 3,
   "id": "601328e0",
   "metadata": {
    "scrolled": false
   },
   "outputs": [
    {
     "name": "stdout",
     "output_type": "stream",
     "text": [
      "[7, 14, 21, 28, 35, 42, 49]\n"
     ]
    }
   ],
   "source": [
    "a= []\n",
    "for x in range (1,50):\n",
    "    if x % 7 == 0:\n",
    "        a.append(x)\n",
    "print(a)"
   ]
  },
  {
   "cell_type": "markdown",
   "id": "6e997170",
   "metadata": {},
   "source": [
    "# 3. Make a list of even numbers less than 45 that have remainder 1 on division by 3."
   ]
  },
  {
   "cell_type": "code",
   "execution_count": 4,
   "id": "98b7d58b",
   "metadata": {},
   "outputs": [
    {
     "name": "stdout",
     "output_type": "stream",
     "text": [
      "[4, 10, 16, 22, 28, 34, 40]\n"
     ]
    }
   ],
   "source": [
    "even_number = []\n",
    "for i in range (0,45):\n",
    "    if i % 2 ==0 and i % 3 == 1:\n",
    "        even_number.append(i)\n",
    "print(even_number)\n"
   ]
  },
  {
   "cell_type": "markdown",
   "id": "9bcb3bdf",
   "metadata": {},
   "source": [
    "# 4. given a list a, how do you find the largest element? Write a code that finds the largest entry in [3,5,8,2,4,9]."
   ]
  },
  {
   "cell_type": "code",
   "execution_count": 5,
   "id": "23a1d12b",
   "metadata": {
    "scrolled": true
   },
   "outputs": [
    {
     "name": "stdout",
     "output_type": "stream",
     "text": [
      "9\n"
     ]
    }
   ],
   "source": [
    "L=[3,5,8,2,4,9]\n",
    "i = max(L)\n",
    "print(i)   "
   ]
  },
  {
   "cell_type": "markdown",
   "id": "6432bb5b",
   "metadata": {},
   "source": [
    "# 7. Write a code that prints the elements of a list that are strings."
   ]
  },
  {
   "cell_type": "code",
   "execution_count": 6,
   "id": "8a12d1e1",
   "metadata": {
    "scrolled": true
   },
   "outputs": [
    {
     "name": "stdout",
     "output_type": "stream",
     "text": [
      "how are you\n",
      "-23\n"
     ]
    }
   ],
   "source": [
    "# example of a list with both strings and those that are not\n",
    "my_list = ( 'how are you', 123,34,'-23')\n",
    "for i in my_list:\n",
    "    if type(i)== str:\n",
    "        print(i)\n",
    "    "
   ]
  },
  {
   "cell_type": "markdown",
   "id": "bc3248c5",
   "metadata": {},
   "source": [
    "# Problems"
   ]
  },
  {
   "cell_type": "markdown",
   "id": "223da351",
   "metadata": {},
   "source": [
    "# Problem 0"
   ]
  },
  {
   "cell_type": "markdown",
   "id": "a7582478",
   "metadata": {},
   "source": [
    "Write a function that, given −1<𝑥<1 and 𝜖>0, returns the smallest 𝑛 such that |∑𝑛𝑘=0𝑥𝑘−11−𝑥|≤𝜖."
   ]
  },
  {
   "cell_type": "code",
   "execution_count": 36,
   "id": "7bc87c9a",
   "metadata": {},
   "outputs": [],
   "source": [
    "def necessary_terms(x, eps):\n",
    "    x_sum = 0\n",
    "    k = 0\n",
    "    if -1 < x < 1 and eps > 0:\n",
    "        m = 1/(1-x)\n",
    "        while abs (x_sum - m) > eps :\n",
    "            x_sum = x_sum + x**k\n",
    "            k = k+1\n",
    "    return k\n",
    "          \n",
    "    "
   ]
  },
  {
   "cell_type": "code",
   "execution_count": 37,
   "id": "5a0923f8",
   "metadata": {},
   "outputs": [
    {
     "data": {
      "text/plain": [
       "7"
      ]
     },
     "execution_count": 37,
     "metadata": {},
     "output_type": "execute_result"
    }
   ],
   "source": [
    "necessary_terms(0.3, 0.001)"
   ]
  },
  {
   "cell_type": "code",
   "execution_count": 38,
   "id": "919c9b8d",
   "metadata": {},
   "outputs": [
    {
     "data": {
      "text/plain": [
       "1833"
      ]
     },
     "execution_count": 38,
     "metadata": {},
     "output_type": "execute_result"
    }
   ],
   "source": [
    "necessary_terms(0.99, 0.000001)"
   ]
  },
  {
   "cell_type": "markdown",
   "id": "a453e941",
   "metadata": {},
   "source": [
    " # Problem 1"
   ]
  },
  {
   "cell_type": "markdown",
   "id": "3862052f",
   "metadata": {},
   "source": [
    "Find the largest sum of a contiguous 3x3 submatrix in the matrix below"
   ]
  },
  {
   "cell_type": "code",
   "execution_count": 41,
   "id": "3867dfc1",
   "metadata": {},
   "outputs": [],
   "source": [
    "M = [[842,655,195,544,768,354,285,491,49,2,917,398,822,126,286,186,278,587,877,973],\n",
    "[199,820,414,592,968,11,409,932,847,20,710,167,531,700,532,789,631,543,739,850],\n",
    "[351,516,1,581,668,127,495,177,89,893,485,352,401,51,81,749,154,369,67,863],\n",
    "[905,473,159,37,676,80,918,2,993,312,857,118,791,642,505,284,565,667,292,265],\n",
    "[329,758,667,339,452,950,955,724,95,986,255,7,853,390,543,345,470,354,970,288],\n",
    "[373,5,566,193,904,75,362,11,424,303,312,367,981,129,618,650,742,786,232,447],\n",
    "[47,582,174,632,425,505,703,127,502,931,273,963,438,577,712,730,408,718,327,409],\n",
    "[668,443,856,542,518,794,715,9,526,833,324,158,246,867,130,572,86,386,186,262],\n",
    "[325,632,471,315,99,538,897,81,371,886,32,967,569,818,50,299,524,479,586,463],\n",
    "[819,124,483,172,146,518,131,324,637,929,732,690,994,989,735,825,760,755,902,566],\n",
    "[393,546,545,949,641,34,381,499,462,686,975,757,885,430,295,574,503,671,634,425],\n",
    "[678,336,151,370,142,946,412,332,765,890,302,68,448,850,172,372,985,908,260,600],\n",
    "[588,399,4,913,201,222,945,808,361,975,689,438,799,647,721,80,634,435,20,211],\n",
    "[124,506,295,11,396,134,237,84,99,862,862,205,324,226,162,368,484,961,348,342],\n",
    "[803,603,28,126,851,393,742,625,619,700,390,564,264,539,572,121,472,925,327,751],\n",
    "[479,297,442,698,506,716,164,457,971,972,851,472,922,649,273,71,491,251,256,394],\n",
    "[880,723,782,515,269,283,51,635,238,676,439,0,555,232,843,459,554,207,826,14],\n",
    "[598,52,320,133,816,72,183,182,225,261,16,742,780,734,369,560,256,693,564,127],\n",
    "[763,896,515,449,779,441,120,113,447,939,635,671,820,168,670,800,931,772,94,402],\n",
    "[133,761,829,794,41,979,96,422,839,593,824,161,477,575,386,762,663,526,625,555]]"
   ]
  },
  {
   "cell_type": "code",
   "execution_count": 45,
   "id": "6d5dad02",
   "metadata": {},
   "outputs": [
    {
     "name": "stdout",
     "output_type": "stream",
     "text": [
      "7099\n"
     ]
    }
   ],
   "source": [
    "import numpy as np\n",
    "M_1 = np.array(M)\n",
    "T= []\n",
    "for k in range (len(M_1)-2):\n",
    "    for j in range (len(M_1)-2):\n",
    "         Sum = np.sum(M_1[k:k+3,j:j+3])\n",
    "         T.append(Sum)\n",
    "max_sum = max(T)\n",
    "print(max_sum)"
   ]
  },
  {
   "cell_type": "markdown",
   "id": "42d6bcc4",
   "metadata": {},
   "source": [
    "# Problem 5"
   ]
  },
  {
   "cell_type": "markdown",
   "id": "c8ab2746",
   "metadata": {},
   "source": [
    "Write a function count_mondays(year) that returns how many Mondays were/will be in a given calendar year. Below I included two suggestions of two other functions you can implement to help you. Please test the function on some examples."
   ]
  },
  {
   "cell_type": "code",
   "execution_count": 34,
   "id": "50d55ad9",
   "metadata": {},
   "outputs": [],
   "source": [
    "import datetime as dt"
   ]
  },
  {
   "cell_type": "code",
   "execution_count": 35,
   "id": "fb44da3e",
   "metadata": {},
   "outputs": [],
   "source": [
    "def is_leap_year(year):\n",
    "    if year % 4 == 0:\n",
    "        return True\n",
    "    else:\n",
    "        return False\n",
    "   "
   ]
  },
  {
   "cell_type": "code",
   "execution_count": 58,
   "id": "0f349a88",
   "metadata": {},
   "outputs": [
    {
     "data": {
      "text/plain": [
       "True"
      ]
     },
     "execution_count": 58,
     "metadata": {},
     "output_type": "execute_result"
    }
   ],
   "source": [
    "is_leap_year(2020)"
   ]
  },
  {
   "cell_type": "code",
   "execution_count": 59,
   "id": "19d43274",
   "metadata": {},
   "outputs": [],
   "source": [
    "def mondays_count(year):\n",
    "    count_mondays = 0\n",
    "    for month in range (1,13):\n",
    "        for day in range(1,32):\n",
    "            try:\n",
    "                date = dt.date(year, month, day)\n",
    "                if date.weekday() == 0 :\n",
    "                    count_mondays = count_mondays +1\n",
    "            except ValueError:\n",
    "                continue\n",
    "                \n",
    "    return count_mondays"
   ]
  },
  {
   "cell_type": "code",
   "execution_count": 62,
   "id": "2565bd3d",
   "metadata": {},
   "outputs": [
    {
     "name": "stdout",
     "output_type": "stream",
     "text": [
      "52\n"
     ]
    }
   ],
   "source": [
    "print(mondays_count(2020))"
   ]
  },
  {
   "cell_type": "markdown",
   "id": "7233c066",
   "metadata": {},
   "source": [
    "# Problem 3"
   ]
  },
  {
   "cell_type": "markdown",
   "id": "23acef62",
   "metadata": {},
   "source": [
    "Consider the recursive sequence\n",
    "$$𝑈_0=7,𝑈_1=3,𝑈_𝑘+1=𝑈_𝑘+3𝑈_𝑘−1 for 𝑘≥1$$\n",
    "\n",
    "Please write a function that, given a positive integer 𝐴\n",
    ", outputs the number of all 𝑘≥0 such that 𝑈𝑘≤𝐴 and 𝑈𝑘 is odd. Please test your function on some examples."
   ]
  },
  {
   "cell_type": "code",
   "execution_count": 10,
   "id": "a295e93b",
   "metadata": {},
   "outputs": [],
   "source": [
    "def output (A):\n",
    "    l = 7\n",
    "    m = 3\n",
    "    D = [l,m]\n",
    "    V = [l,m]\n",
    "    for x in range(2,A):\n",
    "        k = D[x-1] + 3*D[x-2]\n",
    "        D.append(k)\n",
    "        if D[x] % 2 == 1 and D[x] <=A:\n",
    "            V.append(D[x])\n",
    "    return (len(V))"
   ]
  },
  {
   "cell_type": "code",
   "execution_count": 11,
   "id": "05382a78",
   "metadata": {},
   "outputs": [
    {
     "name": "stdout",
     "output_type": "stream",
     "text": [
      "5\n"
     ]
    }
   ],
   "source": [
    "print (output(1000))"
   ]
  },
  {
   "cell_type": "markdown",
   "id": "b5a6b49b",
   "metadata": {},
   "source": [
    "# Problem 4"
   ]
  },
  {
   "cell_type": "markdown",
   "id": "43107976",
   "metadata": {},
   "source": [
    "Consider an infinite decimal fraction\n",
    "\n",
    "$$0.12345678910111213141516171819202122232425....$$\n",
    "\n",
    "That is, our fraction consists of concatenated decimal representations of natural numbers in increasing order. Please write a function fraction_digit(k) that, given positive integer 𝑘\n",
    ", outputs the 𝑘-th digit of this fraction. For example, fraction_digit(1)==1, fraction_digit(9)==9 and fraction_digit(11)==0. Your function should run reasonably fast at least until 𝑘≈106. Test your funcion on some exmples."
   ]
  },
  {
   "cell_type": "code",
   "execution_count": 16,
   "id": "16e93863",
   "metadata": {},
   "outputs": [],
   "source": [
    "def fraction_digit(k):\n",
    "    K = []\n",
    "    for r in range (1000000):\n",
    "        K.append(r)\n",
    "    delimiter = \"\"\n",
    "    digit_string = map(str,K)\n",
    "    joint_digit_str = delimiter.join(digit_string)\n",
    "    return joint_digit_str[k]"
   ]
  },
  {
   "cell_type": "code",
   "execution_count": 17,
   "id": "df6014aa",
   "metadata": {},
   "outputs": [
    {
     "data": {
      "text/plain": [
       "'3'"
      ]
     },
     "execution_count": 17,
     "metadata": {},
     "output_type": "execute_result"
    }
   ],
   "source": [
    "fraction_digit(50)"
   ]
  }
 ],
 "metadata": {
  "kernelspec": {
   "display_name": "Python 3 (ipykernel)",
   "language": "python",
   "name": "python3"
  },
  "language_info": {
   "codemirror_mode": {
    "name": "ipython",
    "version": 3
   },
   "file_extension": ".py",
   "mimetype": "text/x-python",
   "name": "python",
   "nbconvert_exporter": "python",
   "pygments_lexer": "ipython3",
   "version": "3.11.2"
  }
 },
 "nbformat": 4,
 "nbformat_minor": 5
}
