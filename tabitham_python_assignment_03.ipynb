{
 "cells": [
  {
   "cell_type": "markdown",
   "id": "a3112832-15cd-4de8-94e1-687aa7b25f5b",
   "metadata": {},
   "source": [
    "# Assignment 3"
   ]
  },
  {
   "cell_type": "code",
   "execution_count": 1,
   "id": "13e7a613-aa62-48b8-85a6-a8c984cd08e5",
   "metadata": {},
   "outputs": [],
   "source": [
    "import numpy as np\n",
    "import matplotlib.pyplot as plt"
   ]
  },
  {
   "cell_type": "code",
   "execution_count": 2,
   "id": "00d037e8-f2b6-4e1b-a93d-2e19d9b8575f",
   "metadata": {},
   "outputs": [],
   "source": [
    "def test_function(data, correct_answers, f):\n",
    "    for i in range(len(data)):\n",
    "        answer = f(data[i])\n",
    "        if answer != correct_answers[i]:\n",
    "            print('WRONG ANSWER')\n",
    "            print('Argument:', data[i])\n",
    "            print('Correct answer:', correct_answers[i])\n",
    "            print('Your answer:', answer)\n",
    "            return\n",
    "    print('SUCCESS')"
   ]
  },
  {
   "cell_type": "markdown",
   "id": "1545ca64-e8de-4df3-bca5-53ae9f3e0261",
   "metadata": {},
   "source": [
    "## Problem 1: Longest run\n",
    "\n",
    "Let `A` be a numpy 1D array of integers. We say that positions $i,i+1,\\ldots,i+k-1$ form a **run** of length $k$ if\n",
    "$A[i]=A[i+1]=\\ldots=A[i+k-1]$. Write a function that returns the length of a longest run in `A`:"
   ]
  },
  {
   "cell_type": "code",
   "execution_count": 3,
   "id": "0654447b-f70d-4926-a84b-f52f5ff0fc3f",
   "metadata": {},
   "outputs": [],
   "source": [
    "def longest_run(A):\n",
    "    if len(A)==0:\n",
    "        return 0\n",
    "    maximum_run = 1\n",
    "    current_run = 1\n",
    "    for i in range(1,len(A)):\n",
    "        if A[i]- A[i-1]==0:\n",
    "            current_run+=1\n",
    "            if current_run > maximum_run:\n",
    "                maximum_run = current_run\n",
    "        else:\n",
    "            current_run = 1\n",
    "    return maximum_run\n",
    "                \n",
    "    \n",
    "  "
   ]
  },
  {
   "cell_type": "markdown",
   "id": "65cd9abf-8a69-4396-b0e4-fd9d6faae581",
   "metadata": {},
   "source": [
    "Use the code below to test your function:"
   ]
  },
  {
   "cell_type": "code",
   "execution_count": 4,
   "id": "d7eb4fbf-067a-4d35-8e67-d6b1b392894c",
   "metadata": {},
   "outputs": [
    {
     "name": "stdout",
     "output_type": "stream",
     "text": [
      "SUCCESS\n"
     ]
    }
   ],
   "source": [
    "def generate_pseudorandom_array(n, k):\n",
    "    m = 999331\n",
    "    a = 8121\n",
    "    b = 28411\n",
    "    current = 91\n",
    "    \n",
    "    L = []\n",
    "    for i in range(n):\n",
    "        L.append(current % k)\n",
    "        current = (a*current+b)%m\n",
    "    return np.array(L)\n",
    "data = [\n",
    "    np.array([]),\n",
    "    np.array([1]),\n",
    "    np.array([1,2,1]),\n",
    "    np.array([-1,-2,-2]),\n",
    "    generate_pseudorandom_array(1000, 3),\n",
    "    generate_pseudorandom_array(10000, 2),\n",
    "    generate_pseudorandom_array(1000000, 2)\n",
    "]\n",
    "correct_answers = [0, 1, 1, 2, 7, 16, 16]\n",
    "test_function(data, correct_answers, longest_run)"
   ]
  },
  {
   "cell_type": "markdown",
   "id": "dc130ec6-e9cb-4651-92c9-267aac5c1757",
   "metadata": {},
   "source": [
    "## Problem 2: Lower upper"
   ]
  },
  {
   "cell_type": "markdown",
   "id": "da58a910-1c3a-4225-9622-1f73221861dd",
   "metadata": {},
   "source": [
    "Write a function that takes one argument: string ``s`` and **returns** a list with two elements. The first element should be the number of **lowercase letters** in ``s``. The second element should be the number of **uppercase letters** in ``s``."
   ]
  },
  {
   "cell_type": "markdown",
   "id": "f0d210ad-bab0-4439-b563-3ddf41b96cb0",
   "metadata": {},
   "source": [
    "Hint/reminder: To check if one character ``c`` is lowercase you use ``c.islower()``. To check uppercase you use ``c.isupper()``."
   ]
  },
  {
   "cell_type": "code",
   "execution_count": 5,
   "id": "d738ed1f-74a4-4d76-a174-924595ae9007",
   "metadata": {},
   "outputs": [],
   "source": [
    "def count_letters(s):\n",
    "    count1, count2 = 0,0\n",
    "    for i in s:\n",
    "        if i.islower():\n",
    "            count1+=1\n",
    "        elif i.isupper():\n",
    "            count2+=1\n",
    "    return [count1,count2]"
   ]
  },
  {
   "cell_type": "code",
   "execution_count": 6,
   "id": "b5b72b73",
   "metadata": {},
   "outputs": [
    {
     "data": {
      "text/plain": [
       "[3, 3]"
      ]
     },
     "execution_count": 6,
     "metadata": {},
     "output_type": "execute_result"
    }
   ],
   "source": [
    "count_letters('abc123ABC')"
   ]
  },
  {
   "cell_type": "markdown",
   "id": "73ed908f-7b48-4d33-9a33-55de2e44a92e",
   "metadata": {},
   "source": [
    "Test your function using the code below:"
   ]
  },
  {
   "cell_type": "code",
   "execution_count": 7,
   "id": "74d0c866-dbe5-4921-ba9b-ca8e2f7560fb",
   "metadata": {},
   "outputs": [
    {
     "name": "stdout",
     "output_type": "stream",
     "text": [
      "SUCCESS\n"
     ]
    }
   ],
   "source": [
    "data = [\n",
    "    '',\n",
    "    'abc',\n",
    "    'ABC',\n",
    "    'aBcDeFg',\n",
    "    'AbCdEfG',\n",
    "    'abc123ABC',\n",
    "    '!2a!!!?'\n",
    "]\n",
    "correct_answers = [[0, 0], [3, 0], [0, 3], [4, 3], [3, 4], [3, 3], [1, 0]]\n",
    "test_function(data, correct_answers, count_letters)"
   ]
  },
  {
   "cell_type": "markdown",
   "id": "66631034-7cad-4305-b527-f674876794ac",
   "metadata": {},
   "source": [
    "## Problem 3: Sum of maximums"
   ]
  },
  {
   "cell_type": "markdown",
   "id": "ce86eee6-a938-49fc-ac0f-8c0aef435cb9",
   "metadata": {},
   "source": [
    "Write a function that takes one argument: A 2-dimensional **numpy array** of floats ``M`` and:\n",
    "* For each column computes the maximum negative element.\n",
    "* Returns the sum of those elements."
   ]
  },
  {
   "cell_type": "code",
   "execution_count": 8,
   "id": "e866f26f",
   "metadata": {},
   "outputs": [],
   "source": [
    "\n",
    "def sum_max_negative_columns(M):\n",
    "    sum_total = 0 \n",
    "    \n",
    "    for column in np.transpose(M):\n",
    "        neg_values = []\n",
    "        for i in column:\n",
    "            if i < 0:  \n",
    "                neg_values.append(i)  \n",
    "        if neg_values:  \n",
    "            neg_max = max(neg_values)  \n",
    "            sum_total += neg_max  \n",
    "    \n",
    "    return sum_total  \n"
   ]
  },
  {
   "cell_type": "code",
   "execution_count": 9,
   "id": "b5ab1393-b1eb-46be-ba7f-ea20cfd8ad13",
   "metadata": {},
   "outputs": [
    {
     "name": "stdout",
     "output_type": "stream",
     "text": [
      "SUCCESS\n"
     ]
    }
   ],
   "source": [
    "data = [\n",
    "    np.array([[1., 2., 3.], [4., 5., 6.], [7., 8., 9.]]),\n",
    "    np.array([[-1., 4., 1., -2., -3., -5.],\n",
    "             [1., 4., 1., -2., -3., -5.],\n",
    "             [1., -4., 1., 2., 3., -5.]]),\n",
    "    np.array([[-1000.], [-50.], [10.]]),\n",
    "    np.array([[-1000., -50., 10.]])\n",
    "]\n",
    "correct_answers = [0, -15, -50, -1050]\n",
    "test_function(data, correct_answers, sum_max_negative_columns)"
   ]
  },
  {
   "cell_type": "markdown",
   "id": "e817f174-045e-4e41-afb2-83b3a6e8030f",
   "metadata": {},
   "source": [
    "## Problem 4: Points on a circle"
   ]
  },
  {
   "cell_type": "markdown",
   "id": "93059c89-f373-4af1-831a-59050f14b67a",
   "metadata": {},
   "source": [
    "Write a function that takes a positive integer `n` and returns a pair of arrays `X, Y` such `(X[i],Y[i])` are `n` evenly spaced points on the unit circle $\\{(x,y):x^2+y^2=1\\}$. For example, for `n=4` your function can return `X=[1,0,-1,0]` and `Y=[0,1,0,-1]` (other correct answers are possible). Test your function on a few examples for different values of `n` and visualise the results."
   ]
  },
  {
   "cell_type": "code",
   "execution_count": 17,
   "id": "40be9732-6794-41f5-ad54-cba0c5ebea02",
   "metadata": {
    "scrolled": true
   },
   "outputs": [
    {
     "data": {
      "image/png": "[encoded data removed]",
      "text/plain": [
       "<Figure size 640x480 with 1 Axes>"
      ]
     },
     "metadata": {},
     "output_type": "display_data"
    }
   ],
   "source": [
    "def circle_linspace(n):\n",
    "    # Create empty lists for X and Y coordinates\n",
    "    X= []\n",
    "    Y = []\n",
    "    theta = np.linspace(0, 2 * np.pi, n, endpoint=False)\n",
    "    angle = np.random.uniform(0,2 * np.pi)\n",
    "    theta_angle= (theta+angle)%(2 * np.pi)\n",
    "    for i in theta:\n",
    "        x = np.cos(i)\n",
    "        X.append(x)\n",
    "        y = np.sin(i)\n",
    "        Y.append(y)\n",
    "        \n",
    "    return X, Y\n",
    "\n",
    "\n",
    "n =4\n",
    "X, Y = circle_linspace(n) \n",
    "circle_X, circle_Y = circle_linspace(100)  \n",
    "plt.plot(circle_X, circle_Y, color='green')\n",
    "plt.plot(X, Y, 'o',color='red')  \n",
    "plt.xlim(-1, 1)\n",
    "plt.ylim(-1,1 )\n",
    "plt.axis('equal') \n",
    "plt.grid()\n",
    "plt.xlabel('x')\n",
    "plt.ylabel('y')\n",
    "plt.title(' Circle with ' + str(n) + ' equally spaced points')\n",
    "plt.show()"
   ]
  },
  {
   "cell_type": "code",
   "execution_count": 16,
   "id": "ca69af7a",
   "metadata": {},
   "outputs": [
    {
     "data": {
      "image/png": "[encoded data removed]",
      "text/plain": [
       "<Figure size 640x480 with 1 Axes>"
      ]
     },
     "metadata": {},
     "output_type": "display_data"
    }
   ],
   "source": [
    "n = 5\n",
    "X, Y = circle_linspace(n) \n",
    "circle_X, circle_Y = circle_linspace(100)  \n",
    "plt.plot(circle_X, circle_Y, color='green')\n",
    "plt.plot(X, Y, 'o',color='red')  \n",
    "plt.xlim(-1, 1)\n",
    "plt.ylim(-1,1 )\n",
    "plt.axis('equal') \n",
    "plt.grid()\n",
    "plt.xlabel('x')\n",
    "plt.ylabel('y')\n",
    "plt.title(' Circle with ' + str(n) + ' equally spaced points')\n",
    "plt.show()"
   ]
  },
  {
   "cell_type": "markdown",
   "id": "f8dbd4c7-575b-4c1b-a0d5-c8240ddbd81e",
   "metadata": {},
   "source": [
    "## Problem 5: Newton method for computing square roots"
   ]
  },
  {
   "cell_type": "markdown",
   "id": "0b3d8085-e8b1-4be1-916a-39db776bb255",
   "metadata": {},
   "source": [
    "Write a function that takes two arguments: floating-point positive numbers ``x`` and ``error_bound`` and returns the floating-point approximation of the square root of ``x``. The function should use Newton's method given by the formula:\n",
    "\n",
    "$y_0 = x/2$\n",
    "\n",
    "$y_{i+1} = \\left(y_i + \\frac{x}{y_i}\\right) / 2$\n",
    "\n",
    "You will need to decide when to stop the iteration. Use a ``while`` loop to stop when \n",
    "\n",
    "$|y_i - y_{i+1}| < \\textrm{error\\_bound}$\n",
    "\n",
    "If you need to understand the method better, you can look it up on Wikipedia:\n",
    "https://en.wikipedia.org/wiki/Methods_of_computing_square_roots#Babylonian_method"
   ]
  },
  {
   "cell_type": "code",
   "execution_count": 18,
   "id": "11e1080f-ebf0-41b8-b250-cb6486544780",
   "metadata": {},
   "outputs": [],
   "source": [
    "def newton_square_root(x, error_bound=1e-9):\n",
    "    y_cur = x/2\n",
    "    y_prev = 0.00\n",
    "    while np.abs(y_cur- y_prev)> error_bound:\n",
    "        y_prev = y_cur\n",
    "        y_cur = (y_prev+ x/y_prev)/2\n",
    "        \n",
    "    return y_cur\n",
    "    "
   ]
  },
  {
   "cell_type": "code",
   "execution_count": 19,
   "id": "e24eb159",
   "metadata": {},
   "outputs": [
    {
     "data": {
      "text/plain": [
       "0.2"
      ]
     },
     "execution_count": 19,
     "metadata": {},
     "output_type": "execute_result"
    }
   ],
   "source": [
    "newton_square_root(.04)"
   ]
  },
  {
   "cell_type": "markdown",
   "id": "4750306b-40ba-4340-a1c1-1a60049e9935",
   "metadata": {},
   "source": [
    "Test your method on some examples\n",
    "\n",
    "**Bonus** Read on measuring execution time in Python (for example the ``timeit`` package). Compare the speed of your function (you should make many calls, for example 100000) for different error bounds. Also compare with Python functions ``math.sqrt`` and `np.sqrt`."
   ]
  },
  {
   "cell_type": "markdown",
   "id": "622e5b1e-a33b-4f22-9b1b-05a3945db5a4",
   "metadata": {},
   "source": [
    "## Problem 6: Special triples"
   ]
  },
  {
   "cell_type": "markdown",
   "id": "1cc608c1-21cf-442e-97a4-ca5f401089b9",
   "metadata": {},
   "source": [
    "* Write a function that takes two inputs: positive integers `x` and `y`. The function outputs `True` if the digits of `y` are a permutation of digits of `x`. Please consult the testing code to make sure you understand the problem statement."
   ]
  },
  {
   "cell_type": "code",
   "execution_count": 20,
   "id": "918ae1d5-c465-4f68-8229-c81f87dc1063",
   "metadata": {},
   "outputs": [],
   "source": [
    "def is_permutation(x, y):\n",
    "    str1 = str(x)\n",
    "    str2 = str(y)\n",
    "    if len(str1) - len(str2) != 0:\n",
    "        return False\n",
    "    \n",
    "    return sorted(str1) == sorted(str2)\n"
   ]
  },
  {
   "cell_type": "code",
   "execution_count": 21,
   "id": "9938596b-1ded-496c-b0aa-73527379ebc2",
   "metadata": {},
   "outputs": [],
   "source": [
    "data = [\n",
    "    (123, 124),\n",
    "    (11, 111),\n",
    "    (178, 871),\n",
    "    (1151, 5111),\n",
    "    (2123, 1223),\n",
    "    (1266, 2116)\n",
    "]\n",
    "correct_answers = [False, False, True, True, True, False]\n",
    "def test_permutation(data, correct_answers, f):\n",
    "    for i in range(len(data)):\n",
    "        answer = f(*data[i])\n",
    "        if answer != correct_answers[i]:\n",
    "            print('WRONG ANSWER')\n",
    "            print('Argument:', data[i])\n",
    "            print('Correct answer:', correct_answers[i])\n",
    "            print('Your answer:', answer)\n",
    "            return\n",
    "    print('SUCCESS')"
   ]
  },
  {
   "cell_type": "code",
   "execution_count": 22,
   "id": "dfa271c5-4b26-4048-922e-e5ae74064ed2",
   "metadata": {},
   "outputs": [
    {
     "name": "stdout",
     "output_type": "stream",
     "text": [
      "SUCCESS\n"
     ]
    }
   ],
   "source": [
    "test_permutation(data, correct_answers, is_permutation)"
   ]
  },
  {
   "cell_type": "markdown",
   "id": "0a6faaff-f3d3-4003-8cc5-7cbeb601c0a6",
   "metadata": {},
   "source": [
    "* Use the function `is_permutation` and other Python code to find all triples of integers $0<a<b<c<10^4$ such that:\n",
    "    1) $a,b,c$ are an arithmetic progression, that is $b-a=c-b$.\n",
    "    2) All of $a,b,c$ are prime numbers.\n",
    "    3) Digits of $a,b,c$ are permutations of each other."
   ]
  },
  {
   "cell_type": "markdown",
   "id": "fa82bcb4-3519-474f-a4f4-d8403ff5d4e1",
   "metadata": {},
   "source": [
    "## Problem 7: Snake list\n",
    "\n",
    "Write a function that takes as input a square matrix (list of lists) and returns a list which contains all elements from the matrix in a \"snake\" (spiral) fashion."
   ]
  },
  {
   "cell_type": "code",
   "execution_count": 23,
   "id": "a435ef62",
   "metadata": {},
   "outputs": [],
   "source": [
    "def snake_list(M):\n",
    "    snake_list = []\n",
    "    M = np.array(M)\n",
    "    while M.size:\n",
    "        snake_list.extend(M[0])\n",
    "        M = M[1:]\n",
    "        if M.size:\n",
    "            M = np.rot90(M)\n",
    "    return snake_list"
   ]
  },
  {
   "cell_type": "code",
   "execution_count": 24,
   "id": "2794e4ab-b46d-47a8-84c8-baa0a7d7cd55",
   "metadata": {},
   "outputs": [
    {
     "name": "stdout",
     "output_type": "stream",
     "text": [
      "[1, 2, 3, 6, 9, 8, 7, 4, 5]\n"
     ]
    }
   ],
   "source": [
    "M = [\n",
    "    [1, 2, 3],\n",
    "    [4, 5, 6],\n",
    "    [7, 8, 9]\n",
    "]\n",
    "print(snake_list(M))"
   ]
  },
  {
   "cell_type": "markdown",
   "id": "65020399-71b0-45ec-bfbe-97bb07f7b291",
   "metadata": {},
   "source": [
    "For the matrix above ``snake_list`` should return the list ``[1, 2, 3, 6, 9, 8, 7, 4, 5]``."
   ]
  },
  {
   "cell_type": "code",
   "execution_count": 25,
   "id": "4b26685f-491a-4fa1-9411-ea24768a4851",
   "metadata": {},
   "outputs": [],
   "source": [
    "M2 = [\n",
    "    [1, 2, 3, 4],\n",
    "    [5, 6, 7, 8],\n",
    "    [9, 10, 11, 12],\n",
    "    [13, 14, 15, 16]\n",
    "]\n"
   ]
  },
  {
   "cell_type": "code",
   "execution_count": 26,
   "id": "41ede426",
   "metadata": {},
   "outputs": [
    {
     "name": "stdout",
     "output_type": "stream",
     "text": [
      "[1, 2, 3, 4, 8, 12, 16, 15, 14, 13, 9, 5, 6, 7, 11, 10]\n"
     ]
    }
   ],
   "source": [
    "print(snake_list(M2))"
   ]
  },
  {
   "cell_type": "markdown",
   "id": "bd5b9ca3-652a-492b-9a61-8001b1b2de2a",
   "metadata": {},
   "source": [
    "And for this one it should return ``[1, 2, 3, 4, 8, 12, 16, 15, 14, 13, 9, 5, 6, 7, 11, 10]``."
   ]
  },
  {
   "cell_type": "markdown",
   "id": "4f824c5c-b0e4-4001-8b05-7e1d18b485af",
   "metadata": {},
   "source": [
    "## Problem 8: Neural networks"
   ]
  },
  {
   "cell_type": "markdown",
   "id": "e9d02e24-d600-492d-be23-99b4930fd713",
   "metadata": {},
   "source": [
    "A **fully-connected ReLU neural network with one hidden layer** with $d$ **inputs**, $n$ **hidden neurons** and $o$ **outputs** is defined by four arrays of real parameters (**weights**):\n",
    "\n",
    "$$W\\in\\mathbb{R}^{d\\times n},b\\in\\mathbb{R}^n,V\\in\\mathbb{R}^{n\\times o},b'\\in\\mathbb{R}^{o}$$\n",
    "\n",
    "Given the parameters $\\theta=(W,b,V,b')$, the neural network computes a function $f_\\theta:\\mathbb{R}^d\\to\\mathbb{R}^o$ using the formula:\n",
    "\n",
    "$$f_\\theta(x)_k = b'_k+\\sum_{j=1}^n V_{jk}\\mathrm{ReLU}\\left(b_j+\\sum_{i=1}^d W_{ij}x_i\\right)\\text{ for }k=1,\\ldots,o\\;.$$\n",
    "\n",
    "Using matrix notation (and applying ReLU componentwise), we can write this as\n",
    "\n",
    "$$ \\text{Eq. (1):}\\qquad\\qquad f_\\theta(x) = b'+ V^T \\mathrm{ReLU}( b+ W^T x) $$\n",
    "\n",
    "In this problem, we consider a neural network solution for the problem of **handwritten digit classification**. This is a well-known problem for which we will use a public dataset called MNIST. Our input will be grayscale (black-white) pictures with $28\\times 28=784$ pixels. Therefore, we will take\n",
    "$d=784$. The problem we are solving is classifying the digits into one of the values $0,1,\\ldots,9$. Accordingly, we will take the number of outputs $o=10$. The network's output (which is a vector with 10 coordinates) is given by Eq. (1). Then, the network's **prediction** will be the index of the output coordinate (neuron) which gave the largest value. Mathematically,\n",
    "\n",
    "$$ \\text{Eq. (2):}\\qquad\\qquad\\mathrm{pred}_{\\theta}(x)=\\mathrm{argmax}_{k=0,1,\\ldots,9}\\; f_\\theta(x)_k\\;.$$\n",
    "\n",
    "a) Download `mnist_input.npz` and `mnist_weights.npz` files. Several numpy arrays are stored inside those files. Use numpy `np.load` function to load those arrays into memory"
   ]
  },
  {
   "cell_type": "code",
   "execution_count": 27,
   "id": "fb43aa64-1d6a-434b-b619-d19184c00363",
   "metadata": {},
   "outputs": [],
   "source": [
    "mnist_weights = np.load('mnist_weights.npz')\n",
    "mnist_input = np.load('mnist_inputs.npz')\n"
   ]
  },
  {
   "cell_type": "code",
   "execution_count": 28,
   "id": "7aa0066a",
   "metadata": {},
   "outputs": [],
   "source": [
    "images = mnist_input['images']\n",
    "label = mnist_input['labels']\n",
    "\n",
    "# splitting the weights\n",
    "W = mnist_weights['W']\n",
    "b = mnist_weights['b']\n",
    "V = mnist_weights['V']\n",
    "b_prime = mnist_weights['bprime']"
   ]
  },
  {
   "cell_type": "markdown",
   "id": "bf0312e7-80ba-4758-af2e-ece64e81d669",
   "metadata": {},
   "source": [
    "b) First, consider `images` and `labels` arrays loaded from `mnist_inputs.npz`. Given index `i`, the element `images[i]` represents a $28\\times 28$ black-white picture with a handwritten digit. Then, the element `labels[i]` is an integer specifying which digit is in the picture.\n",
    "\n",
    "Use `matplotlib` to visualise some example images and check their labels. Hint: look up `np.reshape` and `plt.imshow` functions."
   ]
  },
  {
   "cell_type": "code",
   "execution_count": 29,
   "id": "f9a74880",
   "metadata": {},
   "outputs": [
    {
     "data": {
      "image/png": "[encoded data removed]",
      "text/plain": [
       "<Figure size 1000x200 with 10 Axes>"
      ]
     },
     "metadata": {},
     "output_type": "display_data"
    }
   ],
   "source": [
    "def visualize_image(images, label,images_num=10):\n",
    "    plt.figure(figsize=(10, 2))\n",
    "    for i in range(images_num):\n",
    "        image = images[i].reshape(28, 28)\n",
    "        plt.subplot(1, images_num, i + 1)\n",
    "        plt.imshow(image, cmap='gray')\n",
    "        plt.title(f'Label: {label[i]}')\n",
    "        plt.axis('off')\n",
    "    plt.show()\n",
    "\n",
    "\n",
    "visualize_image(images, label)"
   ]
  },
  {
   "cell_type": "markdown",
   "id": "d92023a1-a2cc-4ada-a15c-9704e3da7091",
   "metadata": {},
   "source": [
    "c) Create a `NeuralNetwork` class with methods `__init__`, `evaluate` and `predict`. Look in the comments for further instructions:"
   ]
  },
  {
   "cell_type": "code",
   "execution_count": 30,
   "id": "1e623b53",
   "metadata": {},
   "outputs": [],
   "source": [
    "class NeuralNetwork:\n",
    "    def __init__(self, W, b, V, b_prime):\n",
    "\n",
    "        self.W = W\n",
    "        self.b = b\n",
    "        self.V = V\n",
    "        self.b_prime = b_prime\n",
    "    \n",
    "    def relu(self, x):\n",
    "\n",
    "        return np.maximum(0, x)\n",
    "\n",
    "    def evaluate(self, x):\n",
    "        if x.ndim == 1:\n",
    "            y = np.dot(self.W.T, x) + self.b\n",
    "            y = np.dot(self.W.T, x) + self.b\n",
    "            m = self.relu(y)\n",
    "            output = np.dot(self.V.T, m) + self.b_prime\n",
    "        else:\n",
    "            \n",
    "            y = np.dot(x, self.W) + self.b\n",
    "            m = self.relu(y)\n",
    "            output = np.dot(m, self.V )+ self.b_prime\n",
    "\n",
    "        return output\n",
    "    def predict(self, x):\n",
    "        output = self.evaluate(x)\n",
    "        if x.ndim == 1:  \n",
    "            return np.argmax(output)\n",
    "        else:\n",
    "            return np.argmax(output, axis=1)\n",
    "\n",
    "    def get_accuracy(self, x, labels):\n",
    "\n",
    "        prediction = self.predict(x)\n",
    "        total_prediction = np.sum(prediction == labels)\n",
    "        accurate = total_prediction / len(labels)\n",
    "        \n",
    "        return accurate\n"
   ]
  },
  {
   "cell_type": "markdown",
   "id": "3ec6271b-8a97-4d14-b19a-c18fd2aefd27",
   "metadata": {},
   "source": [
    "d) Test your function on:\n",
    "* Random weight matrices initialized according to the standard Gaussian distribution. Try a few different values of $n$. Can you interpret the results?\n",
    "* The weight matrices loaded from the `mnist_weights.npz` file. What is the $n$ of those weights? What is the accuracy? "
   ]
  },
  {
   "cell_type": "code",
   "execution_count": 31,
   "id": "c7833e72-782d-4632-b504-65bbdb7e6502",
   "metadata": {},
   "outputs": [],
   "source": [
    "neural = NeuralNetwork(W, b, V, b_prime)"
   ]
  },
  {
   "cell_type": "code",
   "execution_count": 32,
   "id": "684652c0",
   "metadata": {},
   "outputs": [
    {
     "name": "stdout",
     "output_type": "stream",
     "text": [
      "single image output:\n",
      "[ -0.45998187 -11.95910649   1.75289867   4.18892743  -3.42243753\n",
      "   0.30823608  -7.76776153   9.92415517  -0.93978193   3.22780885]\n"
     ]
    }
   ],
   "source": [
    "#single image test\n",
    "single_image = images[0]\n",
    "print(\"single image output:\")\n",
    "print(neural.evaluate(single_image))"
   ]
  },
  {
   "cell_type": "code",
   "execution_count": 33,
   "id": "e695760c",
   "metadata": {},
   "outputs": [
    {
     "name": "stdout",
     "output_type": "stream",
     "text": [
      " First 200 images accuracy:\n",
      "0.96\n"
     ]
    }
   ],
   "source": [
    "print(\" First 200 images accuracy:\")\n",
    "print(neural.get_accuracy(images[:200], label[:200]))"
   ]
  },
  {
   "cell_type": "code",
   "execution_count": 34,
   "id": "2caf9af6",
   "metadata": {},
   "outputs": [
    {
     "name": "stdout",
     "output_type": "stream",
     "text": [
      "First 2000 images accuracy:\n",
      "0.9135\n"
     ]
    }
   ],
   "source": [
    "print(\"First 2000 images accuracy:\")\n",
    "print(neural.get_accuracy(images[:2000], label[:2000]))"
   ]
  },
  {
   "cell_type": "markdown",
   "id": "c98fafc4-841e-4b1b-a258-2a740eeaecac",
   "metadata": {},
   "source": [
    "## Problem 9: Working with files"
   ]
  },
  {
   "cell_type": "markdown",
   "id": "195f4c33-9fe4-4ae8-9067-35b349c88ec8",
   "metadata": {},
   "source": [
    "This exercise is to practice working with files. \n",
    "\n",
    "There is a file ``sorted_small.txt`` included with this assignment. Solve the problem described below reading your inputs from the file.\n",
    "\n",
    "**Please read the following instructions carefully.** The file contains a number of inputs. **Each input consists of three lines**:\n",
    "* The first line contains two integers $1 \\le a \\le b$.\n",
    "* The second line contains one integer $1 \\le n$.\n",
    "* The third line contains $n$ sorted integers $$1 \\le s_1 \\le s_2 \\le \\ldots \\le s_n.$$\n",
    "\n",
    "All integers on a line are separated by spaces. **You can open the file and see for yourself to understand the input**.\n",
    "\n",
    "For each input, you should output ``True`` or ``False``. You should output ``True`` if there exists $1\\le i \\le n$ such that\n",
    "$$a \\le s_i \\le b.$$\n",
    "\n",
    "**Make a list of all your outputs and compare it with the list of correct answers below**."
   ]
  },
  {
   "cell_type": "code",
   "execution_count": 35,
   "id": "7dcb7c7b",
   "metadata": {},
   "outputs": [],
   "source": [
    "def check_condition(file_name):\n",
    "    outputs = []\n",
    "    with open(file_name, 'r') as file:\n",
    "        while True:\n",
    "            # Read the first line containing a and b\n",
    "            line = file.readline()\n",
    "            if not line:\n",
    "                break\n",
    "            a,  b = map(int, line.strip().split())\n",
    "            \n",
    "            # Read the second line containing m\n",
    "            m_line= int(file.readline().strip())\n",
    "            \n",
    "            # Read the third line containing sorted integers\n",
    "            sorted_integersline = list(map(int, file.readline().strip().split()))\n",
    "            \n",
    "            # Check if there exists s such that a <= s <= b\n",
    "            result = any(a <= s <= b for s in sorted_integersline)\n",
    "            outputs.append(result)\n",
    "    \n",
    "    return outputs\n",
    "\n"
   ]
  },
  {
   "cell_type": "code",
   "execution_count": 36,
   "id": "9317c2b3",
   "metadata": {},
   "outputs": [
    {
     "name": "stdout",
     "output_type": "stream",
     "text": [
      "[False, True, True, False, True, False, False, True, False, True, True, True, True, False, False, False]\n"
     ]
    }
   ],
   "source": [
    "\n",
    "file_name = 'sorted_small.txt'\n",
    "outputs = check_condition(file_name)\n",
    "\n",
    "\n",
    "print(outputs)\n"
   ]
  },
  {
   "cell_type": "code",
   "execution_count": 37,
   "id": "953894db-096d-4567-931e-3f7ce56d2103",
   "metadata": {},
   "outputs": [],
   "source": [
    "correct_answers = [False, True, True, False, True, False, False, True, False, True, True, True, True, False, False, False]"
   ]
  },
  {
   "cell_type": "markdown",
   "id": "ffec4bc7-16eb-4051-bf99-1b11471f0c9f",
   "metadata": {},
   "source": [
    "BONUS: You can try writing \"binary search\" instead of going through the list left-to-right."
   ]
  },
  {
   "cell_type": "markdown",
   "id": "a59c1274-f742-488d-99b0-4e6dc3a00a25",
   "metadata": {},
   "source": [
    "## Problem 10: Sorting lectures "
   ]
  },
  {
   "cell_type": "markdown",
   "id": "d4929e6f-aaee-42ac-a4dc-9a4fbea02b2c",
   "metadata": {},
   "source": [
    "Create a class `Lecture` such that each object contains three attributes (variables) `starting_time`, `finish_time` and `id_number`. Write the `__init__`, `__str__` and `__lt__` methods so that you can sort the a list of lectures according to the starting time. Create a list of lectures to test your class.\n"
   ]
  },
  {
   "cell_type": "code",
   "execution_count": 38,
   "id": "948ad4ab-f2c4-4fa0-8d12-0c2a355c08df",
   "metadata": {},
   "outputs": [],
   "source": [
    "class Lecture:\n",
    "    def __init__(self, starting_time, finish_time, id_number):\n",
    "        self.starting_time = starting_time  \n",
    "        self.finish_time = finish_time  \n",
    "        self.id_number = id_number \n",
    "    def __str__(self):\n",
    "        s = 'starting_time:\\t%s\\tfinish_time:\\t%s\\tid_number:\\t%d' % (self.starting_time, self.finish_time, self.id_number)\n",
    "        return s\n",
    "   \n",
    "    \n",
    "    def __lt__(self, other):\n",
    "        return self.starting_time < other.starting_time\n",
    "\n",
    "   "
   ]
  },
  {
   "cell_type": "code",
   "execution_count": 39,
   "id": "e80f818e-3465-431c-8c3c-cf100424a054",
   "metadata": {},
   "outputs": [
    {
     "name": "stdout",
     "output_type": "stream",
     "text": [
      "starting_time:\t09:00\tfinish_time:\t10:00\tid_number:\t101\n",
      "starting_time:\t08:30\tfinish_time:\t09:30\tid_number:\t102\n",
      "starting_time:\t07:30\tfinish_time:\t08:30\tid_number:\t103\n",
      "starting_time:\t11:00\tfinish_time:\t12:00\tid_number:\t104\n"
     ]
    }
   ],
   "source": [
    "lectures = [\n",
    "    Lecture(\"09:00\", \"10:00\", 101),\n",
    "    Lecture(\"08:30\", \"09:30\", 102),\n",
    "    Lecture(\"07:30\", \"08:30\", 103),\n",
    "    Lecture(\"11:00\", \"12:00\", 104)\n",
    "]\n",
    "\n",
    "\n",
    "for lecture in lectures:\n",
    "    print(lecture)\n"
   ]
  },
  {
   "cell_type": "markdown",
   "id": "29cb4236-8e23-4a2e-842b-fecc6c62c95c",
   "metadata": {},
   "source": [
    "## Problem 11: Scheduling classrooms"
   ]
  },
  {
   "cell_type": "markdown",
   "id": "c9faf6d0-794a-4dbe-90de-74bb49f01b5d",
   "metadata": {},
   "source": [
    "You are the head tutor in charge of AIMS schedule. The building has $k$ classrooms numbered from 1 to $k$ and you are given a list of $n$ lectures. Each lecture is a pair of integers $(s_i, f_i)$ where $s_i$ is the starting time and $f_i$ the finishing time of the lecture, $0\\le s_i\\le f_i\\le 10^6$. Your task is to assign classrooms to lectures, so that no two lectures that overlap in time are assigned to the same room. If one lecture finishes at exactly the same time as another lecture starts, you are allowed to place them in the same room.\n",
    "\n",
    "Return a list of $n$ integers, where for every lecture you specify the room. If it is not possible to schedule all lectures, return the integer $-1$."
   ]
  },
  {
   "cell_type": "code",
   "execution_count": 40,
   "id": "1496ac9c-ec3e-4340-afc8-390a00097ddd",
   "metadata": {},
   "outputs": [
    {
     "name": "stdout",
     "output_type": "stream",
     "text": [
      "-1\n"
     ]
    }
   ],
   "source": [
    "def schedule_classes(k, L):\n",
    "    \n",
    "    n = len(L)\n",
    "    L.sort()\n",
    "    assigned_room =[]\n",
    "    for _ in range(n):\n",
    "         assigned_room.append(0)\n",
    "            \n",
    "    end_time =[]\n",
    "    for _ in range(k):\n",
    "         end_time.append(0)\n",
    "            \n",
    "    if k >= n:\n",
    "        return list(range( n + 1))\n",
    "    \n",
    "    for i in range(n):\n",
    "        start_lecture = L[i][0]\n",
    "        end_lecture = L[i][1]\n",
    "        assigned = False\n",
    "        \n",
    "        for j in range(k):\n",
    "            if end_time[j] <= start_lecture:\n",
    "                \n",
    "                assigned_room[i] = j + 1\n",
    "                end_time[j] = end_lecture\n",
    "                assigned = True\n",
    "                break\n",
    "        \n",
    "        else:\n",
    "            return -1\n",
    "    \n",
    "    return assigned_room\n",
    "\n",
    "\n",
    "k = 1 \n",
    "L = [(3, 6), (1, 4)] \n",
    "print(schedule_classes(k, L))  \n"
   ]
  },
  {
   "cell_type": "markdown",
   "id": "bc9ab022-adc3-4b3c-8aeb-0b84085495df",
   "metadata": {},
   "source": [
    "**Examples** On input `k=1` and `L=[(3, 5), (1, 3)]`, the output should be\n",
    "`[1, 1]`, as you have to put all lectures in the only classroom available. It is fine that the first lecture starts at the same time as the second lecture ends.\n",
    "\n",
    "For input `k=1` and `L=[(3, 6), (1, 4)]`, the output is `-1`, as from time 3 to 4 there are two lectures at the same time.\n",
    "\n",
    "For `k=2` and `L=[(3, 6), (1, 4)]`, the output can be `[1, 2]`. However, it is not the only correct output.\n",
    "\n",
    "For `k=2` and `L=[(4, 7), (9, 12), (5, 8), (2, 5), (1, 3)]`, a correct output is `[1, 1, 2, 2, 1]`. Again, the correct output is not unique."
   ]
  }
 ],
 "metadata": {
  "kernelspec": {
   "display_name": "Python 3 (ipykernel)",
   "language": "python",
   "name": "python3"
  },
  "language_info": {
   "codemirror_mode": {
    "name": "ipython",
    "version": 3
   },
   "file_extension": ".py",
   "mimetype": "text/x-python",
   "name": "python",
   "nbconvert_exporter": "python",
   "pygments_lexer": "ipython3",
   "version": "3.11.2"
  }
 },
 "nbformat": 4,
 "nbformat_minor": 5
}
