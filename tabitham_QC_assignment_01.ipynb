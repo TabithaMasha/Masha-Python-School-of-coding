{
 "cells": [
  {
   "cell_type": "markdown",
   "id": "73da4391",
   "metadata": {},
   "source": [
    "# Question 2"
   ]
  },
  {
   "cell_type": "code",
   "execution_count": 1,
   "id": "6d845954",
   "metadata": {},
   "outputs": [
    {
     "data": {
      "text/html": [
       "<html><script type=\"math/tex; mode=display\">\\newcommand{\\Bold}[1]{\\mathbf{#1}}\\left(\\begin{array}{rr}\n",
       "a_{1} & a_{2} \\\\\n",
       "a_{3} & a_{4}\n",
       "\\end{array}\\right)</script></html>"
      ],
      "text/latex": [
       "$$\\newcommand{\\Bold}[1]{\\mathbf{#1}}\\left(\\begin{array}{rr}\n",
       "a_{1} & a_{2} \\\\\n",
       "a_{3} & a_{4}\n",
       "\\end{array}\\right)$$"
      ],
      "text/plain": [
       "[a_1 a_2]\n",
       "[a_3 a_4]"
      ]
     },
     "metadata": {},
     "output_type": "display_data"
    },
    {
     "data": {
      "text/html": [
       "<html><script type=\"math/tex; mode=display\">\\newcommand{\\Bold}[1]{\\mathbf{#1}}\\left(\\begin{array}{rr}\n",
       "b_{1} & b_{2} \\\\\n",
       "b_{3} & b_{4}\n",
       "\\end{array}\\right)</script></html>"
      ],
      "text/latex": [
       "$$\\newcommand{\\Bold}[1]{\\mathbf{#1}}\\left(\\begin{array}{rr}\n",
       "b_{1} & b_{2} \\\\\n",
       "b_{3} & b_{4}\n",
       "\\end{array}\\right)$$"
      ],
      "text/plain": [
       "[b_1 b_2]\n",
       "[b_3 b_4]"
      ]
     },
     "metadata": {},
     "output_type": "display_data"
    },
    {
     "data": {
      "text/html": [
       "<html><script type=\"math/tex; mode=display\">\\newcommand{\\Bold}[1]{\\mathbf{#1}}\\left(\\begin{array}{rr}\n",
       "c_{1} & c_{2} \\\\\n",
       "c_{3} & c_{4}\n",
       "\\end{array}\\right)</script></html>"
      ],
      "text/latex": [
       "$$\\newcommand{\\Bold}[1]{\\mathbf{#1}}\\left(\\begin{array}{rr}\n",
       "c_{1} & c_{2} \\\\\n",
       "c_{3} & c_{4}\n",
       "\\end{array}\\right)$$"
      ],
      "text/plain": [
       "[c_1 c_2]\n",
       "[c_3 c_4]"
      ]
     },
     "metadata": {},
     "output_type": "display_data"
    },
    {
     "data": {
      "text/html": [
       "<html><script type=\"math/tex; mode=display\">\\newcommand{\\Bold}[1]{\\mathbf{#1}}\\left(\\begin{array}{rr}\n",
       "d_{1} & d_{2} \\\\\n",
       "d_{3} & d_{4}\n",
       "\\end{array}\\right)</script></html>"
      ],
      "text/latex": [
       "$$\\newcommand{\\Bold}[1]{\\mathbf{#1}}\\left(\\begin{array}{rr}\n",
       "d_{1} & d_{2} \\\\\n",
       "d_{3} & d_{4}\n",
       "\\end{array}\\right)$$"
      ],
      "text/plain": [
       "[d_1 d_2]\n",
       "[d_3 d_4]"
      ]
     },
     "metadata": {},
     "output_type": "display_data"
    }
   ],
   "source": [
    "var('a_1','a_2','a_3','a_4','b_1','b_2','b_3','b_4','c_1','c_2','c_3','c_4','d_1','d_2','d_3','d_4')\n",
    "A = matrix([[a_1,a_2],[a_3,a_4]]);show(A)\n",
    "B = matrix([[b_1,b_2],[b_3,b_4]]);show(B)\n",
    "C= matrix([[c_1,c_2],[c_3,c_4]]);show(C)\n",
    "D = matrix([[d_1,d_2],[d_3,d_4]]);show(D)\n"
   ]
  },
  {
   "cell_type": "code",
   "execution_count": 2,
   "id": "65ced8b1",
   "metadata": {
    "scrolled": true
   },
   "outputs": [
    {
     "data": {
      "text/html": [
       "<html><script type=\"math/tex; mode=display\">\\newcommand{\\Bold}[1]{\\mathbf{#1}}\\left(\\begin{array}{rr|rr}\n",
       "a_{1} b_{1} & a_{1} b_{2} & a_{2} b_{1} & a_{2} b_{2} \\\\\n",
       "a_{1} b_{3} & a_{1} b_{4} & a_{2} b_{3} & a_{2} b_{4} \\\\\n",
       "\\hline\n",
       " a_{3} b_{1} & a_{3} b_{2} & a_{4} b_{1} & a_{4} b_{2} \\\\\n",
       "a_{3} b_{3} & a_{3} b_{4} & a_{4} b_{3} & a_{4} b_{4}\n",
       "\\end{array}\\right)</script></html>"
      ],
      "text/latex": [
       "$$\\newcommand{\\Bold}[1]{\\mathbf{#1}}\\left(\\begin{array}{rr|rr}\n",
       "a_{1} b_{1} & a_{1} b_{2} & a_{2} b_{1} & a_{2} b_{2} \\\\\n",
       "a_{1} b_{3} & a_{1} b_{4} & a_{2} b_{3} & a_{2} b_{4} \\\\\n",
       "\\hline\n",
       " a_{3} b_{1} & a_{3} b_{2} & a_{4} b_{1} & a_{4} b_{2} \\\\\n",
       "a_{3} b_{3} & a_{3} b_{4} & a_{4} b_{3} & a_{4} b_{4}\n",
       "\\end{array}\\right)$$"
      ],
      "text/plain": [
       "[a_1*b_1 a_1*b_2|a_2*b_1 a_2*b_2]\n",
       "[a_1*b_3 a_1*b_4|a_2*b_3 a_2*b_4]\n",
       "[---------------+---------------]\n",
       "[a_3*b_1 a_3*b_2|a_4*b_1 a_4*b_2]\n",
       "[a_3*b_3 a_3*b_4|a_4*b_3 a_4*b_4]"
      ]
     },
     "metadata": {},
     "output_type": "display_data"
    }
   ],
   "source": [
    "tensor_A_B =A.tensor_product(B); show(tensor_A_B)"
   ]
  },
  {
   "cell_type": "code",
   "execution_count": 3,
   "id": "d9c6030b",
   "metadata": {
    "scrolled": true
   },
   "outputs": [
    {
     "data": {
      "text/html": [
       "<html><script type=\"math/tex; mode=display\">\\newcommand{\\Bold}[1]{\\mathbf{#1}}\\left(\\begin{array}{rr|rr}\n",
       "c_{1} d_{1} & c_{1} d_{2} & c_{2} d_{1} & c_{2} d_{2} \\\\\n",
       "c_{1} d_{3} & c_{1} d_{4} & c_{2} d_{3} & c_{2} d_{4} \\\\\n",
       "\\hline\n",
       " c_{3} d_{1} & c_{3} d_{2} & c_{4} d_{1} & c_{4} d_{2} \\\\\n",
       "c_{3} d_{3} & c_{3} d_{4} & c_{4} d_{3} & c_{4} d_{4}\n",
       "\\end{array}\\right)</script></html>"
      ],
      "text/latex": [
       "$$\\newcommand{\\Bold}[1]{\\mathbf{#1}}\\left(\\begin{array}{rr|rr}\n",
       "c_{1} d_{1} & c_{1} d_{2} & c_{2} d_{1} & c_{2} d_{2} \\\\\n",
       "c_{1} d_{3} & c_{1} d_{4} & c_{2} d_{3} & c_{2} d_{4} \\\\\n",
       "\\hline\n",
       " c_{3} d_{1} & c_{3} d_{2} & c_{4} d_{1} & c_{4} d_{2} \\\\\n",
       "c_{3} d_{3} & c_{3} d_{4} & c_{4} d_{3} & c_{4} d_{4}\n",
       "\\end{array}\\right)$$"
      ],
      "text/plain": [
       "[c_1*d_1 c_1*d_2|c_2*d_1 c_2*d_2]\n",
       "[c_1*d_3 c_1*d_4|c_2*d_3 c_2*d_4]\n",
       "[---------------+---------------]\n",
       "[c_3*d_1 c_3*d_2|c_4*d_1 c_4*d_2]\n",
       "[c_3*d_3 c_3*d_4|c_4*d_3 c_4*d_4]"
      ]
     },
     "metadata": {},
     "output_type": "display_data"
    }
   ],
   "source": [
    "tensor_C_D=C.tensor_product(D);show(tensor_C_D)"
   ]
  },
  {
   "cell_type": "code",
   "execution_count": 4,
   "id": "631c9195",
   "metadata": {},
   "outputs": [
    {
     "data": {
      "text/html": [
       "<html><script type=\"math/tex; mode=display\">\\newcommand{\\Bold}[1]{\\mathbf{#1}}\\left(\\begin{array}{rrrr}\n",
       "a_{1} b_{1} c_{1} d_{1} + a_{2} b_{1} c_{3} d_{1} + a_{1} b_{2} c_{1} d_{3} + a_{2} b_{2} c_{3} d_{3} & a_{1} b_{1} c_{1} d_{2} + a_{2} b_{1} c_{3} d_{2} + a_{1} b_{2} c_{1} d_{4} + a_{2} b_{2} c_{3} d_{4} & a_{1} b_{1} c_{2} d_{1} + a_{2} b_{1} c_{4} d_{1} + a_{1} b_{2} c_{2} d_{3} + a_{2} b_{2} c_{4} d_{3} & a_{1} b_{1} c_{2} d_{2} + a_{2} b_{1} c_{4} d_{2} + a_{1} b_{2} c_{2} d_{4} + a_{2} b_{2} c_{4} d_{4} \\\\\n",
       "a_{1} b_{3} c_{1} d_{1} + a_{2} b_{3} c_{3} d_{1} + a_{1} b_{4} c_{1} d_{3} + a_{2} b_{4} c_{3} d_{3} & a_{1} b_{3} c_{1} d_{2} + a_{2} b_{3} c_{3} d_{2} + a_{1} b_{4} c_{1} d_{4} + a_{2} b_{4} c_{3} d_{4} & a_{1} b_{3} c_{2} d_{1} + a_{2} b_{3} c_{4} d_{1} + a_{1} b_{4} c_{2} d_{3} + a_{2} b_{4} c_{4} d_{3} & a_{1} b_{3} c_{2} d_{2} + a_{2} b_{3} c_{4} d_{2} + a_{1} b_{4} c_{2} d_{4} + a_{2} b_{4} c_{4} d_{4} \\\\\n",
       "a_{3} b_{1} c_{1} d_{1} + a_{4} b_{1} c_{3} d_{1} + a_{3} b_{2} c_{1} d_{3} + a_{4} b_{2} c_{3} d_{3} & a_{3} b_{1} c_{1} d_{2} + a_{4} b_{1} c_{3} d_{2} + a_{3} b_{2} c_{1} d_{4} + a_{4} b_{2} c_{3} d_{4} & a_{3} b_{1} c_{2} d_{1} + a_{4} b_{1} c_{4} d_{1} + a_{3} b_{2} c_{2} d_{3} + a_{4} b_{2} c_{4} d_{3} & a_{3} b_{1} c_{2} d_{2} + a_{4} b_{1} c_{4} d_{2} + a_{3} b_{2} c_{2} d_{4} + a_{4} b_{2} c_{4} d_{4} \\\\\n",
       "a_{3} b_{3} c_{1} d_{1} + a_{4} b_{3} c_{3} d_{1} + a_{3} b_{4} c_{1} d_{3} + a_{4} b_{4} c_{3} d_{3} & a_{3} b_{3} c_{1} d_{2} + a_{4} b_{3} c_{3} d_{2} + a_{3} b_{4} c_{1} d_{4} + a_{4} b_{4} c_{3} d_{4} & a_{3} b_{3} c_{2} d_{1} + a_{4} b_{3} c_{4} d_{1} + a_{3} b_{4} c_{2} d_{3} + a_{4} b_{4} c_{4} d_{3} & a_{3} b_{3} c_{2} d_{2} + a_{4} b_{3} c_{4} d_{2} + a_{3} b_{4} c_{2} d_{4} + a_{4} b_{4} c_{4} d_{4}\n",
       "\\end{array}\\right)</script></html>"
      ],
      "text/latex": [
       "$$\\newcommand{\\Bold}[1]{\\mathbf{#1}}\\left(\\begin{array}{rrrr}\n",
       "a_{1} b_{1} c_{1} d_{1} + a_{2} b_{1} c_{3} d_{1} + a_{1} b_{2} c_{1} d_{3} + a_{2} b_{2} c_{3} d_{3} & a_{1} b_{1} c_{1} d_{2} + a_{2} b_{1} c_{3} d_{2} + a_{1} b_{2} c_{1} d_{4} + a_{2} b_{2} c_{3} d_{4} & a_{1} b_{1} c_{2} d_{1} + a_{2} b_{1} c_{4} d_{1} + a_{1} b_{2} c_{2} d_{3} + a_{2} b_{2} c_{4} d_{3} & a_{1} b_{1} c_{2} d_{2} + a_{2} b_{1} c_{4} d_{2} + a_{1} b_{2} c_{2} d_{4} + a_{2} b_{2} c_{4} d_{4} \\\\\n",
       "a_{1} b_{3} c_{1} d_{1} + a_{2} b_{3} c_{3} d_{1} + a_{1} b_{4} c_{1} d_{3} + a_{2} b_{4} c_{3} d_{3} & a_{1} b_{3} c_{1} d_{2} + a_{2} b_{3} c_{3} d_{2} + a_{1} b_{4} c_{1} d_{4} + a_{2} b_{4} c_{3} d_{4} & a_{1} b_{3} c_{2} d_{1} + a_{2} b_{3} c_{4} d_{1} + a_{1} b_{4} c_{2} d_{3} + a_{2} b_{4} c_{4} d_{3} & a_{1} b_{3} c_{2} d_{2} + a_{2} b_{3} c_{4} d_{2} + a_{1} b_{4} c_{2} d_{4} + a_{2} b_{4} c_{4} d_{4} \\\\\n",
       "a_{3} b_{1} c_{1} d_{1} + a_{4} b_{1} c_{3} d_{1} + a_{3} b_{2} c_{1} d_{3} + a_{4} b_{2} c_{3} d_{3} & a_{3} b_{1} c_{1} d_{2} + a_{4} b_{1} c_{3} d_{2} + a_{3} b_{2} c_{1} d_{4} + a_{4} b_{2} c_{3} d_{4} & a_{3} b_{1} c_{2} d_{1} + a_{4} b_{1} c_{4} d_{1} + a_{3} b_{2} c_{2} d_{3} + a_{4} b_{2} c_{4} d_{3} & a_{3} b_{1} c_{2} d_{2} + a_{4} b_{1} c_{4} d_{2} + a_{3} b_{2} c_{2} d_{4} + a_{4} b_{2} c_{4} d_{4} \\\\\n",
       "a_{3} b_{3} c_{1} d_{1} + a_{4} b_{3} c_{3} d_{1} + a_{3} b_{4} c_{1} d_{3} + a_{4} b_{4} c_{3} d_{3} & a_{3} b_{3} c_{1} d_{2} + a_{4} b_{3} c_{3} d_{2} + a_{3} b_{4} c_{1} d_{4} + a_{4} b_{4} c_{3} d_{4} & a_{3} b_{3} c_{2} d_{1} + a_{4} b_{3} c_{4} d_{1} + a_{3} b_{4} c_{2} d_{3} + a_{4} b_{4} c_{4} d_{3} & a_{3} b_{3} c_{2} d_{2} + a_{4} b_{3} c_{4} d_{2} + a_{3} b_{4} c_{2} d_{4} + a_{4} b_{4} c_{4} d_{4}\n",
       "\\end{array}\\right)$$"
      ],
      "text/plain": [
       "[a_1*b_1*c_1*d_1 + a_2*b_1*c_3*d_1 + a_1*b_2*c_1*d_3 + a_2*b_2*c_3*d_3 a_1*b_1*c_1*d_2 + a_2*b_1*c_3*d_2 + a_1*b_2*c_1*d_4 + a_2*b_2*c_3*d_4 a_1*b_1*c_2*d_1 + a_2*b_1*c_4*d_1 + a_1*b_2*c_2*d_3 + a_2*b_2*c_4*d_3 a_1*b_1*c_2*d_2 + a_2*b_1*c_4*d_2 + a_1*b_2*c_2*d_4 + a_2*b_2*c_4*d_4]\n",
       "[a_1*b_3*c_1*d_1 + a_2*b_3*c_3*d_1 + a_1*b_4*c_1*d_3 + a_2*b_4*c_3*d_3 a_1*b_3*c_1*d_2 + a_2*b_3*c_3*d_2 + a_1*b_4*c_1*d_4 + a_2*b_4*c_3*d_4 a_1*b_3*c_2*d_1 + a_2*b_3*c_4*d_1 + a_1*b_4*c_2*d_3 + a_2*b_4*c_4*d_3 a_1*b_3*c_2*d_2 + a_2*b_3*c_4*d_2 + a_1*b_4*c_2*d_4 + a_2*b_4*c_4*d_4]\n",
       "[a_3*b_1*c_1*d_1 + a_4*b_1*c_3*d_1 + a_3*b_2*c_1*d_3 + a_4*b_2*c_3*d_3 a_3*b_1*c_1*d_2 + a_4*b_1*c_3*d_2 + a_3*b_2*c_1*d_4 + a_4*b_2*c_3*d_4 a_3*b_1*c_2*d_1 + a_4*b_1*c_4*d_1 + a_3*b_2*c_2*d_3 + a_4*b_2*c_4*d_3 a_3*b_1*c_2*d_2 + a_4*b_1*c_4*d_2 + a_3*b_2*c_2*d_4 + a_4*b_2*c_4*d_4]\n",
       "[a_3*b_3*c_1*d_1 + a_4*b_3*c_3*d_1 + a_3*b_4*c_1*d_3 + a_4*b_4*c_3*d_3 a_3*b_3*c_1*d_2 + a_4*b_3*c_3*d_2 + a_3*b_4*c_1*d_4 + a_4*b_4*c_3*d_4 a_3*b_3*c_2*d_1 + a_4*b_3*c_4*d_1 + a_3*b_4*c_2*d_3 + a_4*b_4*c_4*d_3 a_3*b_3*c_2*d_2 + a_4*b_3*c_4*d_2 + a_3*b_4*c_2*d_4 + a_4*b_4*c_4*d_4]"
      ]
     },
     "metadata": {},
     "output_type": "display_data"
    }
   ],
   "source": [
    "tensor_prod=tensor_A_B*tensor_C_D;show(tensor_prod)"
   ]
  },
  {
   "cell_type": "code",
   "execution_count": 5,
   "id": "45aa3e0e",
   "metadata": {},
   "outputs": [
    {
     "data": {
      "text/html": [
       "<html><script type=\"math/tex; mode=display\">\\newcommand{\\Bold}[1]{\\mathbf{#1}}\\left(\\begin{array}{rr}\n",
       "a_{1} c_{1} + a_{2} c_{3} & a_{1} c_{2} + a_{2} c_{4} \\\\\n",
       "a_{3} c_{1} + a_{4} c_{3} & a_{3} c_{2} + a_{4} c_{4}\n",
       "\\end{array}\\right)</script></html>"
      ],
      "text/latex": [
       "$$\\newcommand{\\Bold}[1]{\\mathbf{#1}}\\left(\\begin{array}{rr}\n",
       "a_{1} c_{1} + a_{2} c_{3} & a_{1} c_{2} + a_{2} c_{4} \\\\\n",
       "a_{3} c_{1} + a_{4} c_{3} & a_{3} c_{2} + a_{4} c_{4}\n",
       "\\end{array}\\right)$$"
      ],
      "text/plain": [
       "[a_1*c_1 + a_2*c_3 a_1*c_2 + a_2*c_4]\n",
       "[a_3*c_1 + a_4*c_3 a_3*c_2 + a_4*c_4]"
      ]
     },
     "metadata": {},
     "output_type": "display_data"
    }
   ],
   "source": [
    "prod_A_C=A*C;show(prod_A_C)"
   ]
  },
  {
   "cell_type": "code",
   "execution_count": 6,
   "id": "039db4d4",
   "metadata": {},
   "outputs": [
    {
     "data": {
      "text/html": [
       "<html><script type=\"math/tex; mode=display\">\\newcommand{\\Bold}[1]{\\mathbf{#1}}\\left(\\begin{array}{rr}\n",
       "b_{1} d_{1} + b_{2} d_{3} & b_{1} d_{2} + b_{2} d_{4} \\\\\n",
       "b_{3} d_{1} + b_{4} d_{3} & b_{3} d_{2} + b_{4} d_{4}\n",
       "\\end{array}\\right)</script></html>"
      ],
      "text/latex": [
       "$$\\newcommand{\\Bold}[1]{\\mathbf{#1}}\\left(\\begin{array}{rr}\n",
       "b_{1} d_{1} + b_{2} d_{3} & b_{1} d_{2} + b_{2} d_{4} \\\\\n",
       "b_{3} d_{1} + b_{4} d_{3} & b_{3} d_{2} + b_{4} d_{4}\n",
       "\\end{array}\\right)$$"
      ],
      "text/plain": [
       "[b_1*d_1 + b_2*d_3 b_1*d_2 + b_2*d_4]\n",
       "[b_3*d_1 + b_4*d_3 b_3*d_2 + b_4*d_4]"
      ]
     },
     "metadata": {},
     "output_type": "display_data"
    }
   ],
   "source": [
    "prod_B_D=B*D;show(prod_B_D)"
   ]
  },
  {
   "cell_type": "code",
   "execution_count": 7,
   "id": "8f33e724",
   "metadata": {},
   "outputs": [
    {
     "data": {
      "text/html": [
       "<html><script type=\"math/tex; mode=display\">\\newcommand{\\Bold}[1]{\\mathbf{#1}}\\left(\\begin{array}{rr|rr}\n",
       "{\\left(a_{1} c_{1} + a_{2} c_{3}\\right)} {\\left(b_{1} d_{1} + b_{2} d_{3}\\right)} & {\\left(a_{1} c_{1} + a_{2} c_{3}\\right)} {\\left(b_{1} d_{2} + b_{2} d_{4}\\right)} & {\\left(a_{1} c_{2} + a_{2} c_{4}\\right)} {\\left(b_{1} d_{1} + b_{2} d_{3}\\right)} & {\\left(a_{1} c_{2} + a_{2} c_{4}\\right)} {\\left(b_{1} d_{2} + b_{2} d_{4}\\right)} \\\\\n",
       "{\\left(a_{1} c_{1} + a_{2} c_{3}\\right)} {\\left(b_{3} d_{1} + b_{4} d_{3}\\right)} & {\\left(a_{1} c_{1} + a_{2} c_{3}\\right)} {\\left(b_{3} d_{2} + b_{4} d_{4}\\right)} & {\\left(a_{1} c_{2} + a_{2} c_{4}\\right)} {\\left(b_{3} d_{1} + b_{4} d_{3}\\right)} & {\\left(a_{1} c_{2} + a_{2} c_{4}\\right)} {\\left(b_{3} d_{2} + b_{4} d_{4}\\right)} \\\\\n",
       "\\hline\n",
       " {\\left(a_{3} c_{1} + a_{4} c_{3}\\right)} {\\left(b_{1} d_{1} + b_{2} d_{3}\\right)} & {\\left(a_{3} c_{1} + a_{4} c_{3}\\right)} {\\left(b_{1} d_{2} + b_{2} d_{4}\\right)} & {\\left(a_{3} c_{2} + a_{4} c_{4}\\right)} {\\left(b_{1} d_{1} + b_{2} d_{3}\\right)} & {\\left(a_{3} c_{2} + a_{4} c_{4}\\right)} {\\left(b_{1} d_{2} + b_{2} d_{4}\\right)} \\\\\n",
       "{\\left(a_{3} c_{1} + a_{4} c_{3}\\right)} {\\left(b_{3} d_{1} + b_{4} d_{3}\\right)} & {\\left(a_{3} c_{1} + a_{4} c_{3}\\right)} {\\left(b_{3} d_{2} + b_{4} d_{4}\\right)} & {\\left(a_{3} c_{2} + a_{4} c_{4}\\right)} {\\left(b_{3} d_{1} + b_{4} d_{3}\\right)} & {\\left(a_{3} c_{2} + a_{4} c_{4}\\right)} {\\left(b_{3} d_{2} + b_{4} d_{4}\\right)}\n",
       "\\end{array}\\right)</script></html>"
      ],
      "text/latex": [
       "$$\\newcommand{\\Bold}[1]{\\mathbf{#1}}\\left(\\begin{array}{rr|rr}\n",
       "{\\left(a_{1} c_{1} + a_{2} c_{3}\\right)} {\\left(b_{1} d_{1} + b_{2} d_{3}\\right)} & {\\left(a_{1} c_{1} + a_{2} c_{3}\\right)} {\\left(b_{1} d_{2} + b_{2} d_{4}\\right)} & {\\left(a_{1} c_{2} + a_{2} c_{4}\\right)} {\\left(b_{1} d_{1} + b_{2} d_{3}\\right)} & {\\left(a_{1} c_{2} + a_{2} c_{4}\\right)} {\\left(b_{1} d_{2} + b_{2} d_{4}\\right)} \\\\\n",
       "{\\left(a_{1} c_{1} + a_{2} c_{3}\\right)} {\\left(b_{3} d_{1} + b_{4} d_{3}\\right)} & {\\left(a_{1} c_{1} + a_{2} c_{3}\\right)} {\\left(b_{3} d_{2} + b_{4} d_{4}\\right)} & {\\left(a_{1} c_{2} + a_{2} c_{4}\\right)} {\\left(b_{3} d_{1} + b_{4} d_{3}\\right)} & {\\left(a_{1} c_{2} + a_{2} c_{4}\\right)} {\\left(b_{3} d_{2} + b_{4} d_{4}\\right)} \\\\\n",
       "\\hline\n",
       " {\\left(a_{3} c_{1} + a_{4} c_{3}\\right)} {\\left(b_{1} d_{1} + b_{2} d_{3}\\right)} & {\\left(a_{3} c_{1} + a_{4} c_{3}\\right)} {\\left(b_{1} d_{2} + b_{2} d_{4}\\right)} & {\\left(a_{3} c_{2} + a_{4} c_{4}\\right)} {\\left(b_{1} d_{1} + b_{2} d_{3}\\right)} & {\\left(a_{3} c_{2} + a_{4} c_{4}\\right)} {\\left(b_{1} d_{2} + b_{2} d_{4}\\right)} \\\\\n",
       "{\\left(a_{3} c_{1} + a_{4} c_{3}\\right)} {\\left(b_{3} d_{1} + b_{4} d_{3}\\right)} & {\\left(a_{3} c_{1} + a_{4} c_{3}\\right)} {\\left(b_{3} d_{2} + b_{4} d_{4}\\right)} & {\\left(a_{3} c_{2} + a_{4} c_{4}\\right)} {\\left(b_{3} d_{1} + b_{4} d_{3}\\right)} & {\\left(a_{3} c_{2} + a_{4} c_{4}\\right)} {\\left(b_{3} d_{2} + b_{4} d_{4}\\right)}\n",
       "\\end{array}\\right)$$"
      ],
      "text/plain": [
       "[(a_1*c_1 + a_2*c_3)*(b_1*d_1 + b_2*d_3) (a_1*c_1 + a_2*c_3)*(b_1*d_2 + b_2*d_4)|(a_1*c_2 + a_2*c_4)*(b_1*d_1 + b_2*d_3) (a_1*c_2 + a_2*c_4)*(b_1*d_2 + b_2*d_4)]\n",
       "[(a_1*c_1 + a_2*c_3)*(b_3*d_1 + b_4*d_3) (a_1*c_1 + a_2*c_3)*(b_3*d_2 + b_4*d_4)|(a_1*c_2 + a_2*c_4)*(b_3*d_1 + b_4*d_3) (a_1*c_2 + a_2*c_4)*(b_3*d_2 + b_4*d_4)]\n",
       "[-------------------------------------------------------------------------------+-------------------------------------------------------------------------------]\n",
       "[(a_3*c_1 + a_4*c_3)*(b_1*d_1 + b_2*d_3) (a_3*c_1 + a_4*c_3)*(b_1*d_2 + b_2*d_4)|(a_3*c_2 + a_4*c_4)*(b_1*d_1 + b_2*d_3) (a_3*c_2 + a_4*c_4)*(b_1*d_2 + b_2*d_4)]\n",
       "[(a_3*c_1 + a_4*c_3)*(b_3*d_1 + b_4*d_3) (a_3*c_1 + a_4*c_3)*(b_3*d_2 + b_4*d_4)|(a_3*c_2 + a_4*c_4)*(b_3*d_1 + b_4*d_3) (a_3*c_2 + a_4*c_4)*(b_3*d_2 + b_4*d_4)]"
      ]
     },
     "metadata": {},
     "output_type": "display_data"
    }
   ],
   "source": [
    "prod_tensor= prod_A_C.tensor_product(prod_B_D);show(prod_tensor)\n"
   ]
  },
  {
   "cell_type": "code",
   "execution_count": 8,
   "id": "12d29a23",
   "metadata": {},
   "outputs": [
    {
     "data": {
      "text/plain": [
       "True"
      ]
     },
     "execution_count": 8,
     "metadata": {},
     "output_type": "execute_result"
    }
   ],
   "source": [
    "tensor_prod==prod_tensor"
   ]
  },
  {
   "cell_type": "markdown",
   "id": "cf2b5884",
   "metadata": {},
   "source": [
    "# Question 3 (a)"
   ]
  },
  {
   "cell_type": "code",
   "execution_count": 9,
   "id": "2917c61a",
   "metadata": {
    "scrolled": true
   },
   "outputs": [
    {
     "data": {
      "text/html": [
       "<html><script type=\"math/tex; mode=display\">\\newcommand{\\Bold}[1]{\\mathbf{#1}}\\left(\\begin{array}{rr}\n",
       "0 & 1 \\\\\n",
       "1 & 0\n",
       "\\end{array}\\right)</script></html>"
      ],
      "text/latex": [
       "$$\\newcommand{\\Bold}[1]{\\mathbf{#1}}\\left(\\begin{array}{rr}\n",
       "0 & 1 \\\\\n",
       "1 & 0\n",
       "\\end{array}\\right)$$"
      ],
      "text/plain": [
       "[0 1]\n",
       "[1 0]"
      ]
     },
     "metadata": {},
     "output_type": "display_data"
    },
    {
     "data": {
      "text/html": [
       "<html><script type=\"math/tex; mode=display\">\\newcommand{\\Bold}[1]{\\mathbf{#1}}\\left(\\begin{array}{rr}\n",
       "0 & -i \\\\\n",
       "i & 0\n",
       "\\end{array}\\right)</script></html>"
      ],
      "text/latex": [
       "$$\\newcommand{\\Bold}[1]{\\mathbf{#1}}\\left(\\begin{array}{rr}\n",
       "0 & -i \\\\\n",
       "i & 0\n",
       "\\end{array}\\right)$$"
      ],
      "text/plain": [
       "[ 0 -I]\n",
       "[ I  0]"
      ]
     },
     "metadata": {},
     "output_type": "display_data"
    },
    {
     "data": {
      "text/html": [
       "<html><script type=\"math/tex; mode=display\">\\newcommand{\\Bold}[1]{\\mathbf{#1}}\\left(\\begin{array}{rr}\n",
       "1 & 0 \\\\\n",
       "0 & -1\n",
       "\\end{array}\\right)</script></html>"
      ],
      "text/latex": [
       "$$\\newcommand{\\Bold}[1]{\\mathbf{#1}}\\left(\\begin{array}{rr}\n",
       "1 & 0 \\\\\n",
       "0 & -1\n",
       "\\end{array}\\right)$$"
      ],
      "text/plain": [
       "[ 1  0]\n",
       "[ 0 -1]"
      ]
     },
     "metadata": {},
     "output_type": "display_data"
    }
   ],
   "source": [
    "sigma_x= matrix([[0,1],[1,0]]);show(sigma_x)\n",
    "sigma_y= matrix([[0,-i],[i,0]]);show(sigma_y)\n",
    "sigma_z= matrix([[1,0],[0,-1]]);show(sigma_z)"
   ]
  },
  {
   "cell_type": "code",
   "execution_count": 10,
   "id": "ca36edf9",
   "metadata": {},
   "outputs": [
    {
     "data": {
      "text/html": [
       "<html><script type=\"math/tex; mode=display\">\\newcommand{\\Bold}[1]{\\mathbf{#1}}\\left(\\begin{array}{r}\n",
       "a_{x} \\\\\n",
       "a_{y} \\\\\n",
       "a_{z}\n",
       "\\end{array}\\right)</script></html>"
      ],
      "text/latex": [
       "$$\\newcommand{\\Bold}[1]{\\mathbf{#1}}\\left(\\begin{array}{r}\n",
       "a_{x} \\\\\n",
       "a_{y} \\\\\n",
       "a_{z}\n",
       "\\end{array}\\right)$$"
      ],
      "text/plain": [
       "[a_x]\n",
       "[a_y]\n",
       "[a_z]"
      ]
     },
     "metadata": {},
     "output_type": "display_data"
    },
    {
     "data": {
      "text/html": [
       "<html><script type=\"math/tex; mode=display\">\\newcommand{\\Bold}[1]{\\mathbf{#1}}\\left(a_{x},\\,a_{y},\\,a_{z}\\right)</script></html>"
      ],
      "text/latex": [
       "$$\\newcommand{\\Bold}[1]{\\mathbf{#1}}\\left(a_{x},\\,a_{y},\\,a_{z}\\right)$$"
      ],
      "text/plain": [
       "(a_x, a_y, a_z)"
      ]
     },
     "metadata": {},
     "output_type": "display_data"
    },
    {
     "data": {
      "text/html": [
       "<html><script type=\"math/tex; mode=display\">\\newcommand{\\Bold}[1]{\\mathbf{#1}}\\left(\\begin{array}{r}\n",
       "b_{x} \\\\\n",
       "b_{y} \\\\\n",
       "b_{z}\n",
       "\\end{array}\\right)</script></html>"
      ],
      "text/latex": [
       "$$\\newcommand{\\Bold}[1]{\\mathbf{#1}}\\left(\\begin{array}{r}\n",
       "b_{x} \\\\\n",
       "b_{y} \\\\\n",
       "b_{z}\n",
       "\\end{array}\\right)$$"
      ],
      "text/plain": [
       "[b_x]\n",
       "[b_y]\n",
       "[b_z]"
      ]
     },
     "metadata": {},
     "output_type": "display_data"
    },
    {
     "data": {
      "text/html": [
       "<html><script type=\"math/tex; mode=display\">\\newcommand{\\Bold}[1]{\\mathbf{#1}}\\left(b_{x},\\,b_{y},\\,b_{z}\\right)</script></html>"
      ],
      "text/latex": [
       "$$\\newcommand{\\Bold}[1]{\\mathbf{#1}}\\left(b_{x},\\,b_{y},\\,b_{z}\\right)$$"
      ],
      "text/plain": [
       "(b_x, b_y, b_z)"
      ]
     },
     "metadata": {},
     "output_type": "display_data"
    }
   ],
   "source": [
    "var('a_x','a_y','a_z','b_x','b_y','b_z',)\n",
    "a= matrix([[a_x],[a_y],[a_z]]);show(a)\n",
    "a_vector = vector([a_x,a_y,a_z]);show(a_vector)\n",
    "b= matrix([[b_x],[b_y],[b_z]]);show(b)\n",
    "b_vector = vector([b_x,b_y,b_z]);show(b_vector)\n"
   ]
  },
  {
   "cell_type": "code",
   "execution_count": 11,
   "id": "9f7da9e4",
   "metadata": {},
   "outputs": [
    {
     "data": {
      "text/html": [
       "<html><script type=\"math/tex; mode=display\">\\newcommand{\\Bold}[1]{\\mathbf{#1}}\\left(\\begin{array}{rr}\n",
       "a_{z} & a_{x} - i \\, a_{y} \\\\\n",
       "a_{x} + i \\, a_{y} & -a_{z}\n",
       "\\end{array}\\right)</script></html>"
      ],
      "text/latex": [
       "$$\\newcommand{\\Bold}[1]{\\mathbf{#1}}\\left(\\begin{array}{rr}\n",
       "a_{z} & a_{x} - i \\, a_{y} \\\\\n",
       "a_{x} + i \\, a_{y} & -a_{z}\n",
       "\\end{array}\\right)$$"
      ],
      "text/plain": [
       "[        a_z a_x - I*a_y]\n",
       "[a_x + I*a_y        -a_z]"
      ]
     },
     "metadata": {},
     "output_type": "display_data"
    },
    {
     "data": {
      "text/html": [
       "<html><script type=\"math/tex; mode=display\">\\newcommand{\\Bold}[1]{\\mathbf{#1}}\\left(\\begin{array}{rr}\n",
       "b_{z} & b_{x} - i \\, b_{y} \\\\\n",
       "b_{x} + i \\, b_{y} & -b_{z}\n",
       "\\end{array}\\right)</script></html>"
      ],
      "text/latex": [
       "$$\\newcommand{\\Bold}[1]{\\mathbf{#1}}\\left(\\begin{array}{rr}\n",
       "b_{z} & b_{x} - i \\, b_{y} \\\\\n",
       "b_{x} + i \\, b_{y} & -b_{z}\n",
       "\\end{array}\\right)$$"
      ],
      "text/plain": [
       "[        b_z b_x - I*b_y]\n",
       "[b_x + I*b_y        -b_z]"
      ]
     },
     "metadata": {},
     "output_type": "display_data"
    }
   ],
   "source": [
    "A_val = a_x*sigma_x+a_y*sigma_y+a_z*sigma_z;show(A_val)\n",
    "B_val = b_x*sigma_x+b_y*sigma_y+b_z*sigma_z;show(B_val)"
   ]
  },
  {
   "cell_type": "code",
   "execution_count": 13,
   "id": "e17de2fd",
   "metadata": {},
   "outputs": [
    {
     "data": {
      "text/html": [
       "<html><script type=\"math/tex; mode=display\">\\newcommand{\\Bold}[1]{\\mathbf{#1}}\\left(\\begin{array}{rr}\n",
       "{\\left(a_{x} - i \\, a_{y}\\right)} {\\left(b_{x} + i \\, b_{y}\\right)} + a_{z} b_{z} & a_{z} {\\left(b_{x} - i \\, b_{y}\\right)} - {\\left(a_{x} - i \\, a_{y}\\right)} b_{z} \\\\\n",
       "-a_{z} {\\left(b_{x} + i \\, b_{y}\\right)} + {\\left(a_{x} + i \\, a_{y}\\right)} b_{z} & {\\left(a_{x} + i \\, a_{y}\\right)} {\\left(b_{x} - i \\, b_{y}\\right)} + a_{z} b_{z}\n",
       "\\end{array}\\right)</script></html>"
      ],
      "text/latex": [
       "$$\\newcommand{\\Bold}[1]{\\mathbf{#1}}\\left(\\begin{array}{rr}\n",
       "{\\left(a_{x} - i \\, a_{y}\\right)} {\\left(b_{x} + i \\, b_{y}\\right)} + a_{z} b_{z} & a_{z} {\\left(b_{x} - i \\, b_{y}\\right)} - {\\left(a_{x} - i \\, a_{y}\\right)} b_{z} \\\\\n",
       "-a_{z} {\\left(b_{x} + i \\, b_{y}\\right)} + {\\left(a_{x} + i \\, a_{y}\\right)} b_{z} & {\\left(a_{x} + i \\, a_{y}\\right)} {\\left(b_{x} - i \\, b_{y}\\right)} + a_{z} b_{z}\n",
       "\\end{array}\\right)$$"
      ],
      "text/plain": [
       "[ (a_x - I*a_y)*(b_x + I*b_y) + a_z*b_z  a_z*(b_x - I*b_y) - (a_x - I*a_y)*b_z]\n",
       "[-a_z*(b_x + I*b_y) + (a_x + I*a_y)*b_z  (a_x + I*a_y)*(b_x - I*b_y) + a_z*b_z]"
      ]
     },
     "metadata": {},
     "output_type": "display_data"
    }
   ],
   "source": [
    "prod= A_val*B_val;show(prod)"
   ]
  },
  {
   "cell_type": "code",
   "execution_count": 14,
   "id": "e270491e",
   "metadata": {
    "scrolled": true
   },
   "outputs": [
    {
     "data": {
      "text/html": [
       "<html><script type=\"math/tex; mode=display\">\\newcommand{\\Bold}[1]{\\mathbf{#1}}a_{x} b_{x} + a_{y} b_{y} + a_{z} b_{z}</script></html>"
      ],
      "text/latex": [
       "$$\\newcommand{\\Bold}[1]{\\mathbf{#1}}a_{x} b_{x} + a_{y} b_{y} + a_{z} b_{z}$$"
      ],
      "text/plain": [
       "a_x*b_x + a_y*b_y + a_z*b_z"
      ]
     },
     "metadata": {},
     "output_type": "display_data"
    },
    {
     "data": {
      "text/html": [
       "<html><script type=\"math/tex; mode=display\">\\newcommand{\\Bold}[1]{\\mathbf{#1}}\\left(-a_{z} b_{y} + a_{y} b_{z},\\,a_{z} b_{x} - a_{x} b_{z},\\,-a_{y} b_{x} + a_{x} b_{y}\\right)</script></html>"
      ],
      "text/latex": [
       "$$\\newcommand{\\Bold}[1]{\\mathbf{#1}}\\left(-a_{z} b_{y} + a_{y} b_{z},\\,a_{z} b_{x} - a_{x} b_{z},\\,-a_{y} b_{x} + a_{x} b_{y}\\right)$$"
      ],
      "text/plain": [
       "(-a_z*b_y + a_y*b_z, a_z*b_x - a_x*b_z, -a_y*b_x + a_x*b_y)"
      ]
     },
     "metadata": {},
     "output_type": "display_data"
    }
   ],
   "source": [
    "a_b_dot = a[0]*b[0]+a[1]*b[1]+a[2]*b[2];show(a_b_dot)\n",
    "a_b_cross= a_vector.cross_product(b_vector);show(a_b_cross)"
   ]
  },
  {
   "cell_type": "code",
   "execution_count": 15,
   "id": "e1fb847c",
   "metadata": {},
   "outputs": [
    {
     "data": {
      "text/html": [
       "<html><script type=\"math/tex; mode=display\">\\newcommand{\\Bold}[1]{\\mathbf{#1}}\\left(\\begin{array}{rr}\n",
       "a_{x} b_{x} - i \\, a_{y} b_{x} + i \\, a_{x} b_{y} + a_{y} b_{y} + a_{z} b_{z} & a_{z} b_{x} - i \\, a_{z} b_{y} - a_{x} b_{z} + i \\, a_{y} b_{z} \\\\\n",
       "-a_{z} b_{x} - i \\, a_{z} b_{y} + a_{x} b_{z} + i \\, a_{y} b_{z} & a_{x} b_{x} + i \\, a_{y} b_{x} - i \\, a_{x} b_{y} + a_{y} b_{y} + a_{z} b_{z}\n",
       "\\end{array}\\right)</script></html>"
      ],
      "text/latex": [
       "$$\\newcommand{\\Bold}[1]{\\mathbf{#1}}\\left(\\begin{array}{rr}\n",
       "a_{x} b_{x} - i \\, a_{y} b_{x} + i \\, a_{x} b_{y} + a_{y} b_{y} + a_{z} b_{z} & a_{z} b_{x} - i \\, a_{z} b_{y} - a_{x} b_{z} + i \\, a_{y} b_{z} \\\\\n",
       "-a_{z} b_{x} - i \\, a_{z} b_{y} + a_{x} b_{z} + i \\, a_{y} b_{z} & a_{x} b_{x} + i \\, a_{y} b_{x} - i \\, a_{x} b_{y} + a_{y} b_{y} + a_{z} b_{z}\n",
       "\\end{array}\\right)$$"
      ],
      "text/plain": [
       "[a_x*b_x - I*a_y*b_x + I*a_x*b_y + a_y*b_y + a_z*b_z           a_z*b_x - I*a_z*b_y - a_x*b_z + I*a_y*b_z]\n",
       "[         -a_z*b_x - I*a_z*b_y + a_x*b_z + I*a_y*b_z a_x*b_x + I*a_y*b_x - I*a_x*b_y + a_y*b_y + a_z*b_z]"
      ]
     },
     "metadata": {},
     "output_type": "display_data"
    }
   ],
   "source": [
    "RHS=(a_b_dot* matrix.identity(2))+i*(a_b_cross[0]*sigma_x+a_b_cross[1]*sigma_y+a_b_cross[2]*sigma_z);show(RHS)"
   ]
  },
  {
   "cell_type": "code",
   "execution_count": 16,
   "id": "4d488f97",
   "metadata": {},
   "outputs": [
    {
     "data": {
      "text/plain": [
       "True"
      ]
     },
     "execution_count": 16,
     "metadata": {},
     "output_type": "execute_result"
    }
   ],
   "source": [
    "prod==RHS"
   ]
  }
 ],
 "metadata": {
  "kernelspec": {
   "display_name": "SageMath 9.5",
   "language": "sage",
   "name": "sagemath"
  },
  "language_info": {
   "codemirror_mode": {
    "name": "ipython",
    "version": 3
   },
   "file_extension": ".py",
   "mimetype": "text/x-python",
   "name": "python",
   "nbconvert_exporter": "python",
   "pygments_lexer": "ipython3",
   "version": "3.11.2"
  }
 },
 "nbformat": 4,
 "nbformat_minor": 5
}
