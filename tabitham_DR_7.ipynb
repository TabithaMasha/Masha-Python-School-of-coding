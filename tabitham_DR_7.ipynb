{
 "cells": [
  {
   "cell_type": "markdown",
   "metadata": {},
   "source": [
    "<img src=\"./images/aims-za-logo.jpeg\" alt=\"drawing\" style=\"width:400px;\"/>\n",
    "<h1 style=\"text-align: center;\"><a title=\"EMS-AIMS-ZA-2024-25\" href=\"https://evansdoe.github.io/aims-za/ems/2024-25\">Experimental Mathematics Using SageMath — AIMS-ZA-2024-25</a></h1>\n",
    "\n",
    "\n",
    "## Instructors: \n",
    "\n",
    "\n",
    "* <a href=\"http://evansdoe.github.io\">**Evans Ocansey**</a>"
   ]
  },
  {
   "cell_type": "markdown",
   "metadata": {},
   "source": [
    "## Day 06 — New Experiments: Sum of Squares and Plotting <a class=\"anchor\" id=\"new-experiment-sum-of-squares-and-plotting\"></a>\n",
    "\n",
    "[comment]: <> (<h2 style=\"text-align: left;\">Day 02 — Introduction to <a title=\"SageMath\"href=\"http://www.sagemath.org/\"><em>SageMath</em></a>: A Mathematics Software for All</h2>)\n",
    "\n",
    "\n",
    "\n",
    "\n",
    "The outline of the this notebook is as follows:"
   ]
  },
  {
   "cell_type": "markdown",
   "metadata": {},
   "source": [
    "## Table of Contents: <a class=\"anchor\" id=\"day-05-toc\"></a> \n",
    "* [ ] [<font color=blue>Reviewing the Frobenius Problem</font>](#reviewing-the-frobenius-problem)\n",
    "  * [<font color=blue>Last Thoughts on the Conductor</font>](#last-thoughts-on-the-conductor)\n",
    "* [ ] [<font color=blue>New Experiment — Sum of Squares </font>](#new-experiment-sum-of-squares)\n",
    "  * [<font color=blue>Exploratory Questions — Sum of Squares </font>](#exploratory-questions-sum-of-squares)\n",
    "* [ ] [<font color=blue>More Plotting and Graphics in Two Dimensions</font>](#more-plotting-and-graphics-in-two-dimensions)"
   ]
  },
  {
   "cell_type": "markdown",
   "metadata": {},
   "source": [
    "## Reviewing the Frobenius Problem <a class = \"anchor\" id=\"reviewing-the-frobenius-problem\"></a>\n",
    "Our motivational problem is the following: \n",
    " - Given positive integers $a$ and $b$, what numbers $m$ can be written in the form $a\\,x+b\\,y$, where $x,\\,y \\in \\mathbb{Z}_{\\ge0}$? \n",
    "\n",
    "Given positive integers $a$ and $b$ if there is a positive integer $c$, with $c = a\\,x + b\\,y$ such that for all positive integers $n \\ge c$, there are non-negative integers $x$ and $y$ with $n = a\\,x + b\\,y$, then $c$ is called the *conductor* of $a$ and $b$. In other words, $c_{\\{a,b\\}}$ is the smallest positive integer that can be written as $a\\,x + b\\,y$ such that  all positive integers greater than or equal to $c_{\\{a,b\\}}$ are also writable. We will denote the conductor of $a$ and $b$ by $c_{\\{a,b\\}}$.  \n",
    "On the other hand, the largest positive integer $f$ that can not be written as $f = a\\,x + b\\,y$ is called the  *Frobenius number* of $a$ and $b$. We will denote this by $f_{\\{a,b\\}}$.\n",
    "\n",
    "It has already led to several related questions. Hopefully you were able to explore the following questions and made interesting _conjectures_.\n",
    "\n",
    " - Given two positive integers $a$  and $b$, how many numbers can not be written as $a\\,x + b\\,y$ with $x,\\,y\\in\\mathbb{Z}_{\\ge0}$?\n",
    " - If $a$ is even and $b$ is odd, what is the Frobenius number? \n",
    " - If $a$ is even and $b$ is even, what is the Frobenius number? \n",
    " - If $a$ is odd and $b$ is odd, what is the Frobenius number? \n",
    " - If $a$ and $b$ are prime numbers, what is the Frobenius number? \n",
    " - Given two positive integers $a$ and $b$, can we find a formula or some other means of computing the Frobenius number?\n",
    " - If $a,\\, b \\in \\mathbb{Z}_{>0}$ and $\\gcd(a, b) \\neq 1$, does the Frobenius number exist?\n",
    "\n",
    "Here are some questions that we possed together in class: \n",
    "- Given that either $a = 1$ or $b = 1$, but not both, is it possible to define a Frobenius number, $f_{\\{a,b\\}}$ and a conductor, $c_{\\{a,b\\}}$? If so what is it?\n",
    "- If $a$ and $b$ have a common factor greater than $1$, does there exist a Frobenius number, $f_{\\{a,b\\}}$ and a conductor, $c_{\\{a,b\\}}$?\n",
    "- If $a$ is even and $b$ is odd what is the Frobenius number and conductor?\n",
    "- If $f_{\\{a,b\\}}=\\infty$ for $a,\\,b \\in \\mathbb{Z}_{>0}$, is it always true that the conductor, $c_{\\{a,b\\}}$ is also infinity. How about the vice-versa of this statement?\n",
    "- Is there a case such that given $a,\\,b \\in \\mathbb{Z}_{>0}$ there exists a Frobenius number, $f_{\\{a,b\\}}$ but not a conductor, $c_{\\{a,b\\}}$?\n",
    "- What is the existence condition for a Frobenius number, $f_{\\{a,b\\}}$ and a conductor, $c_{\\{a,b\\}}$ given $a, b\\in\\mathbb{Z}_{>0}$?\n",
    "- If $a,b\\in\\mathbb{Z}_{>0}$ and there exist a Fronbenius number, $f_{\\{a,b\\}}$ and a conductor, $c_{\\{a,b\\}}$, is there a relationship between:\n",
    "  - $f_{\\{a,\\,b\\}}$ and $c_{\\{a,\\,b\\}}$?\n",
    "  - $f_{\\{a,\\,b\\}}$, $a$, and $b$?\n",
    "  - $c_{\\{a,\\,b\\}}$, $a$, and $b$?"
   ]
  },
  {
   "cell_type": "code",
   "execution_count": null,
   "metadata": {},
   "outputs": [],
   "source": []
  },
  {
   "cell_type": "markdown",
   "metadata": {},
   "source": [
    "### Last Thoughts on the Conductor <a class = \"anchor\" id=\"last-thoughts-on-the-conductor\"></a>\n",
    "\n",
    "Are there more questions we can explore about the Frobenius problem?\n",
    "\n",
    "- What if instead of two positive integers $a$ and $b$, we have more than $3$ positive integers $a, b, c$?  \n",
    "\n",
    "**Question**: Is there such a thing as a *conductor* or a *Frobenius number* for a set of _three_ integers?\n",
    "That is, is there a conductor for numbers of the form $n=5x+8y+7z$, for the set $\\{5,8,7\\}$?\n",
    "\n",
    "   * Well, what about for $\\{3,4,7\\}$?\n",
    "   * Okay, what about $\\{3,4,6\\}$?\n",
    "   * Ah, but what about $\\{3,4,5\\}$?\n",
    "\n",
    "**Question**: We observed from our experiments with two positive integers $a$ and $b$ that the existence criterion for the Frobenius number $f_{\\{a,b\\}}$ is that $a$ and $b$ must be coprime, i.e., $\\gcd(a, b)=1$. Would this criterion also hold for the case of three positive integers: $a$, $b$, and $c$?\n",
    "\n",
    "\n",
    "Do you think there a formula for the Frobenius number $f_{\\{a,b\\}}$, and the conductor $c_{\\{a,b\\}}$?  What about for bigger sets of integers, for example, for three positive integers $a$, $b$, and $c$?\n",
    "\n",
    "   * For sets of two, it turns out there is a _complete answer_ which some of you have either discovered it already or busy discovering.\n",
    "   * For sets of three numbers, like $n=5\\,x+8\\,y+7\\,z$, there is an efficient algorithm, but no exact formula.\n",
    "\n",
    "Notice the connection between theory and practice!  Solving this problem could easily solve a \"real-life\" business problem, so a good algorithm would be very important. But finding such an algorithm requires exploration and experimentation like we have been doing.  \n",
    "\n",
    "This [video](https://www.youtube.com/watch?v=vNTSugyS038) gives us a practical application of the Frobenius problem in real life."
   ]
  },
  {
   "cell_type": "markdown",
   "metadata": {},
   "source": [
    "Click [**here**](#day-05-toc) if you want to go back to the table of content of this notebook. Otherwise, continue to the next [**Section**](#new-experiment-sum-of-squares)."
   ]
  },
  {
   "cell_type": "markdown",
   "metadata": {},
   "source": [
    "## New Experiment — Sum of Squares <a class=\"anchor\" id=\"new-experiment-sum-of-squares\"></a>\n",
    "\n",
    "With that in mind, let's begin our next exploration. Hopefully you have had some fun experimenting with the condunctor problem. Today we will introduce a new problem to keep up the fun spirit of experimental mathematics. Namely, what numbers can be written in the form $n=a^2+b^2$?\n",
    "\n",
    "Here are a cases that do and do not work.\n",
    "\n",
    "   * $2 = 1^2+1^2$ works;\n",
    "   * $3$ does not work, since we only allow integers.  $1+1$ is too small, $1^2+2^2=5$ is too big;\n",
    "   * $4$ actually <em>does</em> work, because we allow $4 = 0^2+2^2$.  (That's just one of our rules; you could play a different game if you wanted.);\n",
    "   * That means $1=1^2+0^2$ works.\n",
    "   * $5$ works.\n",
    "And so forth. "
   ]
  },
  {
   "cell_type": "markdown",
   "metadata": {},
   "source": [
    "## Exploratory Questions — Sum of Squares <a class=\"anchor\" id=\"exploratory-questions-sum-of-squares\"></a>\n",
    "Can you think of questions that you can explore experimentally? Last Friday, we formulated the following questions. I also added extra questions.\n",
    "\n",
    "1. Which positive integers can be written as a sum of two squares?\n",
    "2. Which ones cannot be written?\n",
    "3. Are numbers that can be represented as a sum of two squares always odd or always even? Or do they vary?\n",
    "4. What are the sum of squares that are even or odd integers?\n",
    "5. Is the sum of squares of two numbers generally even or odd? What factors influence this?\n",
    "6. What are the sum of squares that are perfect squares? What is the probability that the sum of squares is a perfect square? When is this condition true?\n",
    "7. If $a$ is a factor of $b$, under what conditions is the sum of their squares a perfect square?\n",
    "8. Can either $a$ or $b$ be a factor of the sum of their squares?\n",
    "9. For which values of $a$ and $b$ is the sum of their squares a prime number?\n",
    "10. Can there be two or more distinct pairs of $a$ and $b$ that yield the same sum of squares? If so, what are these pairs?\n",
    "11. Is the sum of the squares of two consecutive integers always odd? If not, when does it differ?\n",
    "12. If $a$ and $b$ are both odd, is the sum of their squares odd or even?\n",
    "13. If $a$ is odd and $b$ is even, what is the sum of their squares?\n",
    "14. If $a$ is the only even prime (i.e., $2$) and $b$ is an odd prime, is the sum of their squares a prime number?\n",
    "15. Which numbers can be written as a sum of squares of two prime numbers?\n",
    "16. Which positive integers can be expressed as the sum of squares of their factors? Are there identifiable patterns?\n",
    "17. Given $a$ and $b$ are both prime, under what conditions is $a^2 + b^2$ also prime?\n",
    "18. Are there forms other than $x^2 + 0^2$ for representing a square root as a sum of squares?\n",
    "\n",
    "Each question could reveal patterns or conjectures. Let's proceed systematically as follows:\n",
    "\n",
    "   - **Identify** when the statement holds true or false.\n",
    "   - **Analyze patterns** in the results generated.\n",
    "   - **Make conjectures** about underlying rules or relationships based on observed patterns."
   ]
  },
  {
   "cell_type": "code",
   "execution_count": null,
   "metadata": {},
   "outputs": [],
   "source": []
  },
  {
   "cell_type": "markdown",
   "metadata": {},
   "source": [
    "- Let us start by working with pens and paper.\n",
    "- I will create a table on the board for us to fill it out.\n",
    "- We will divide ourselves into groups and try the case for $n$ running from $1$ to $100$ to fillout the table.\n",
    "- We will study the table to see if we can observe some patterns in the data and make some interesting conjectures.\n",
    "- When we are done, we will go to the computer lab and see how we can translate the table we have created using an appropriate Python datatype.\n",
    "- Once we have the tabular data correctly encoded, we will further explore our questions in groups using SageMath."
   ]
  },
  {
   "cell_type": "code",
   "execution_count": null,
   "metadata": {},
   "outputs": [],
   "source": []
  },
  {
   "cell_type": "code",
   "execution_count": null,
   "metadata": {},
   "outputs": [],
   "source": []
  },
  {
   "cell_type": "code",
   "execution_count": null,
   "metadata": {},
   "outputs": [],
   "source": []
  },
  {
   "cell_type": "code",
   "execution_count": null,
   "metadata": {},
   "outputs": [],
   "source": []
  },
  {
   "cell_type": "code",
   "execution_count": null,
   "metadata": {},
   "outputs": [],
   "source": []
  },
  {
   "cell_type": "code",
   "execution_count": null,
   "metadata": {},
   "outputs": [],
   "source": []
  },
  {
   "cell_type": "code",
   "execution_count": null,
   "metadata": {},
   "outputs": [],
   "source": []
  },
  {
   "cell_type": "code",
   "execution_count": null,
   "metadata": {},
   "outputs": [],
   "source": []
  },
  {
   "cell_type": "code",
   "execution_count": null,
   "metadata": {},
   "outputs": [],
   "source": []
  },
  {
   "cell_type": "markdown",
   "metadata": {},
   "source": [
    "Hopefully you have tried some examples. Now let us have ourselves in groups and explore our questions using _SageMath_. As you explore, try to write your observation. Later on I will call on the spokesperson of a group to report their findings."
   ]
  },
  {
   "cell_type": "code",
   "execution_count": null,
   "metadata": {},
   "outputs": [],
   "source": [
    "sorted([a^2 + b^2 for a in [0..10] for b in [0..10]])"
   ]
  },
  {
   "cell_type": "code",
   "execution_count": null,
   "metadata": {
    "scrolled": true
   },
   "outputs": [],
   "source": []
  },
  {
   "cell_type": "markdown",
   "metadata": {},
   "source": [
    "Conjectures made by students in today's class after working with pens and papers to generate data.\n",
    "\n",
    "- If $n$ is odd, then the pair $(a,b)$ has one to be even and the other odd.\n",
    "- If $a$ and $b$ are both even, then $n$ is even and if $a$ and $b$ are both odd, then $n$ is even.\n",
    "- If $n=a^2+b^2$ for $a,b\\in\\mathbb{N}$ then $a,b\\leq\\sqrt{n}$.\n",
    "- If $n=a^2+b^2$ for $a,b\\in\\mathbb{N}$, then the maximum number of pairs $(a,b)$ for fixed $n$ is equal to 4.\n",
    "- If $n$ has 4 pairs of solution, then $n$ is a multiple of $5$.\n",
    "- If $n$ is prime and $>2$, the number of $(a,b)$ is always 2.\n",
    "- If $a=b$, $n=2a^2$ or $n=2b^2$. If a or b is equal to zero, then $n=a^2$ or $b^2$.\n",
    "- If $n$ is a perfect square, the number of $(a,b)$ is 2.\n",
    "- If $n$ is an odd prime and can be written as 1 mod 4, then it can be written as $a^2+b^2$."
   ]
  },
  {
   "cell_type": "markdown",
   "metadata": {},
   "source": [
    "### Experiment 1 <a id=\"experiment-01\"></a>"
   ]
  },
  {
   "cell_type": "markdown",
   "metadata": {},
   "source": [
    "If $n$ is odd, then the pair $(a,b)$ has one to be even and the other odd."
   ]
  },
  {
   "cell_type": "code",
   "execution_count": 141,
   "metadata": {},
   "outputs": [],
   "source": [
    "def sum_of_squares_data(a_bound=6, b_bound=6):\n",
    "    sum_of_squares_database = {}\n",
    "    for a in [0..a_bound]:\n",
    "        for b in [0..b_bound]:\n",
    "            n = a^2 + b^2\n",
    "            if n not in sum_of_squares_database:\n",
    "                sum_of_squares_database[n] = [(a, b)]\n",
    "            else:\n",
    "                sum_of_squares_database[n].append((a,b))\n",
    "    return sum_of_squares_database"
   ]
  },
  {
   "cell_type": "code",
   "execution_count": 142,
   "metadata": {},
   "outputs": [
    {
     "data": {
      "text/plain": [
       "{0: [(0, 0)],\n",
       " 1: [(0, 1), (1, 0)],\n",
       " 4: [(0, 2), (2, 0)],\n",
       " 9: [(0, 3), (3, 0)],\n",
       " 16: [(0, 4), (4, 0)],\n",
       " 25: [(0, 5), (3, 4), (4, 3), (5, 0)],\n",
       " 36: [(0, 6), (6, 0)],\n",
       " 2: [(1, 1)],\n",
       " 5: [(1, 2), (2, 1)],\n",
       " 10: [(1, 3), (3, 1)],\n",
       " 17: [(1, 4), (4, 1)],\n",
       " 26: [(1, 5), (5, 1)],\n",
       " 37: [(1, 6), (6, 1)],\n",
       " 8: [(2, 2)],\n",
       " 13: [(2, 3), (3, 2)],\n",
       " 20: [(2, 4), (4, 2)],\n",
       " 29: [(2, 5), (5, 2)],\n",
       " 40: [(2, 6), (6, 2)],\n",
       " 18: [(3, 3)],\n",
       " 34: [(3, 5), (5, 3)],\n",
       " 45: [(3, 6), (6, 3)],\n",
       " 32: [(4, 4)],\n",
       " 41: [(4, 5), (5, 4)],\n",
       " 52: [(4, 6), (6, 4)],\n",
       " 50: [(5, 5)],\n",
       " 61: [(5, 6), (6, 5)],\n",
       " 72: [(6, 6)]}"
      ]
     },
     "execution_count": 142,
     "metadata": {},
     "output_type": "execute_result"
    }
   ],
   "source": [
    "a_bound=6\n",
    "b_bound=6\n",
    "\n",
    "sum_of_squares_database = sum_of_squares_data(a_bound=a_bound, b_bound=b_bound)\n",
    "sum_of_squares_database"
   ]
  },
  {
   "cell_type": "code",
   "execution_count": 143,
   "metadata": {
    "scrolled": true
   },
   "outputs": [
    {
     "data": {
      "text/plain": [
       "{0: [(0, 0)],\n",
       " 1: [(0, 1), (1, 0)],\n",
       " 4: [(0, 2), (2, 0)],\n",
       " 9: [(0, 3), (3, 0)],\n",
       " 16: [(0, 4), (4, 0)],\n",
       " 25: [(0, 5), (3, 4), (4, 3), (5, 0)],\n",
       " 36: [(0, 6), (6, 0)],\n",
       " 2: [(1, 1)],\n",
       " 5: [(1, 2), (2, 1)],\n",
       " 10: [(1, 3), (3, 1)],\n",
       " 17: [(1, 4), (4, 1)],\n",
       " 26: [(1, 5), (5, 1)],\n",
       " 37: [(1, 6), (6, 1)],\n",
       " 8: [(2, 2)],\n",
       " 13: [(2, 3), (3, 2)],\n",
       " 20: [(2, 4), (4, 2)],\n",
       " 29: [(2, 5), (5, 2)],\n",
       " 40: [(2, 6), (6, 2)],\n",
       " 18: [(3, 3)],\n",
       " 34: [(3, 5), (5, 3)],\n",
       " 45: [(3, 6), (6, 3)],\n",
       " 32: [(4, 4)],\n",
       " 41: [(4, 5), (5, 4)],\n",
       " 52: [(4, 6), (6, 4)],\n",
       " 50: [(5, 5)],\n",
       " 61: [(5, 6), (6, 5)],\n",
       " 72: [(6, 6)]}"
      ]
     },
     "execution_count": 143,
     "metadata": {},
     "output_type": "execute_result"
    }
   ],
   "source": [
    "sum_of_squares_data()"
   ]
  },
  {
   "cell_type": "code",
   "execution_count": 144,
   "metadata": {},
   "outputs": [
    {
     "data": {
      "text/plain": [
       "{1: [(0, 1), (1, 0)],\n",
       " 9: [(0, 3), (3, 0)],\n",
       " 25: [(0, 5), (3, 4), (4, 3), (5, 0)],\n",
       " 5: [(1, 2), (2, 1)],\n",
       " 17: [(1, 4), (4, 1)],\n",
       " 37: [(1, 6), (6, 1)],\n",
       " 13: [(2, 3), (3, 2)],\n",
       " 29: [(2, 5), (5, 2)],\n",
       " 45: [(3, 6), (6, 3)],\n",
       " 41: [(4, 5), (5, 4)],\n",
       " 61: [(5, 6), (6, 5)]}"
      ]
     },
     "execution_count": 144,
     "metadata": {},
     "output_type": "execute_result"
    }
   ],
   "source": [
    "odd ={key: sum_of_squares_database[key] for key in list(filter(is_odd, sum_of_squares_database))}\n",
    "odd"
   ]
  },
  {
   "cell_type": "markdown",
   "metadata": {},
   "source": [
    "# Experiment 2"
   ]
  },
  {
   "cell_type": "markdown",
   "metadata": {},
   "source": [
    "If 𝑎 and 𝑏 are both even, then 𝑛 is even and if 𝑎 and 𝑏 are both odd, then 𝑛 is even"
   ]
  },
  {
   "cell_type": "code",
   "execution_count": 145,
   "metadata": {},
   "outputs": [],
   "source": [
    "def sum_of_squares_data(a_bound=6, b_bound=6):\n",
    "    sum_of_squares_database = {}\n",
    "    for a in [0..a_bound]:\n",
    "        for b in [0..b_bound]:\n",
    "            n = a^2 + b^2\n",
    "            if (a%2==0 and b%2==0) or( a%2==1 and b%2==1):\n",
    "                if n not in sum_of_squares_database:\n",
    "                    sum_of_squares_database[n] = [(a, b)]\n",
    "                else:\n",
    "                    sum_of_squares_database[n].append((a,b))\n",
    "    return sum_of_squares_database"
   ]
  },
  {
   "cell_type": "code",
   "execution_count": 63,
   "metadata": {},
   "outputs": [
    {
     "data": {
      "text/plain": [
       "{0: [(0, 0)],\n",
       " 4: [(0, 2), (2, 0)],\n",
       " 16: [(0, 4), (4, 0)],\n",
       " 36: [(0, 6), (6, 0)],\n",
       " 2: [(1, 1)],\n",
       " 10: [(1, 3), (3, 1)],\n",
       " 26: [(1, 5), (5, 1)],\n",
       " 8: [(2, 2)],\n",
       " 20: [(2, 4), (4, 2)],\n",
       " 40: [(2, 6), (6, 2)],\n",
       " 18: [(3, 3)],\n",
       " 34: [(3, 5), (5, 3)],\n",
       " 32: [(4, 4)],\n",
       " 52: [(4, 6), (6, 4)],\n",
       " 50: [(5, 5)],\n",
       " 72: [(6, 6)]}"
      ]
     },
     "execution_count": 63,
     "metadata": {},
     "output_type": "execute_result"
    }
   ],
   "source": [
    "sum_of_squares_data()"
   ]
  },
  {
   "cell_type": "markdown",
   "metadata": {},
   "source": [
    "# Experiment 3"
   ]
  },
  {
   "cell_type": "markdown",
   "metadata": {},
   "source": [
    "If $n=a^2+b^2$ for $a,b\\in\\mathbb{N}$ then $a,b\\leq\\sqrt{n}$."
   ]
  },
  {
   "cell_type": "code",
   "execution_count": 147,
   "metadata": {},
   "outputs": [],
   "source": [
    "def sum_of_squares_data(a_bound=6, b_bound=6):\n",
    "    sum_of_squares_database = {}\n",
    "    for a in [0..a_bound]:\n",
    "        for b in [0..b_bound]:\n",
    "            n = a^2 + b^2\n",
    "            square_rt = int(n**0.5)\n",
    "            if a<=square_rt and b <=square_rt:\n",
    "                 if n not in sum_of_squares_database:\n",
    "                        sum_of_squares_database[n] = [(a, b)]  \n",
    "            else:\n",
    "                sum_of_squares_database[n].append((a,b))\n",
    "    return sum_of_squares_database"
   ]
  },
  {
   "cell_type": "code",
   "execution_count": 148,
   "metadata": {},
   "outputs": [
    {
     "data": {
      "text/plain": [
       "True"
      ]
     },
     "execution_count": 148,
     "metadata": {},
     "output_type": "execute_result"
    }
   ],
   "source": [
    "#checks the elements of a and b if they are less than the squareroot of n\n",
    "ab_less_sqrtn = lambda tup, key:(tup[0]<=sqrt(key)) and (tup[1]<=sqrt(key))\n",
    "# checks all values if they are less than the squareroot\n",
    "all(all(ab_less_sqrtn (tup,key) for tup in value) for key, value in sum_of_squares_database.items())"
   ]
  },
  {
   "cell_type": "markdown",
   "metadata": {},
   "source": [
    "# Experiment 4"
   ]
  },
  {
   "cell_type": "markdown",
   "metadata": {},
   "source": [
    "If $n=a^2+b^2$ for $a,b\\in\\mathbb{N}$, then the maximum number of pairs $(a,b)$ for fixed $n$ is equal to 4."
   ]
  },
  {
   "cell_type": "code",
   "execution_count": 149,
   "metadata": {},
   "outputs": [],
   "source": [
    "def sum_of_squares_data(a_bound=100, b_bound=100):\n",
    "    sum_of_squares_database = {}\n",
    "    for a in [0..a_bound]:\n",
    "        for b in [0..b_bound]:\n",
    "            n = a^2 + b^2\n",
    "            if n not in sum_of_squares_database:\n",
    "                sum_of_squares_database[n] = [(a, b)]\n",
    "            else:\n",
    "                sum_of_squares_database[n].append((a,b))\n",
    "# Counter example to show that there are numbers with more than 4 pairs hence conjecture not always true\n",
    "    pairs = { n: pairs for n , pairs in sum_of_squares_database.items() if len(pairs) ==5}\n",
    "    return pairs"
   ]
  },
  {
   "cell_type": "code",
   "execution_count": 150,
   "metadata": {},
   "outputs": [
    {
     "data": {
      "text/plain": [
       "{1250: [(5, 35), (17, 31), (25, 25), (31, 17), (35, 5)],\n",
       " 5000: [(10, 70), (34, 62), (50, 50), (62, 34), (70, 10)]}"
      ]
     },
     "execution_count": 150,
     "metadata": {},
     "output_type": "execute_result"
    }
   ],
   "source": [
    "sum_of_squares_data()"
   ]
  },
  {
   "cell_type": "markdown",
   "metadata": {},
   "source": [
    "# Experiment 5"
   ]
  },
  {
   "cell_type": "markdown",
   "metadata": {},
   "source": [
    "If $n$ has 4 pairs of solution, then $n$ is a multiple of $5$."
   ]
  },
  {
   "cell_type": "code",
   "execution_count": 151,
   "metadata": {},
   "outputs": [],
   "source": [
    "def sum_of_squares_data(a_bound=20, b_bound=20):\n",
    "    sum_of_squares_database = {}\n",
    "    for a in [0..a_bound]:\n",
    "        for b in [0..b_bound]:\n",
    "            n = a^2 + b^2\n",
    "            if n not in sum_of_squares_database:\n",
    "                sum_of_squares_database[n] = [(a, b)]\n",
    "            else:\n",
    "                sum_of_squares_database[n].append((a,b))\n",
    "# Counter example to show that there are numbers with 4 pairs and not divisible by 5 hence conjecture not  always true\n",
    "    pairs = { n: pairs for n , pairs in sum_of_squares_database.items() if len(pairs) ==4  and n%5!=0}\n",
    "    return pairs"
   ]
  },
  {
   "cell_type": "code",
   "execution_count": 152,
   "metadata": {},
   "outputs": [
    {
     "data": {
      "text/plain": [
       "{169: [(0, 13), (5, 12), (12, 5), (13, 0)],\n",
       " 289: [(0, 17), (8, 15), (15, 8), (17, 0)],\n",
       " 377: [(4, 19), (11, 16), (16, 11), (19, 4)],\n",
       " 221: [(5, 14), (10, 11), (11, 10), (14, 5)],\n",
       " 481: [(9, 20), (15, 16), (16, 15), (20, 9)]}"
      ]
     },
     "execution_count": 152,
     "metadata": {},
     "output_type": "execute_result"
    }
   ],
   "source": [
    "sum_of_squares_data()"
   ]
  },
  {
   "cell_type": "markdown",
   "metadata": {},
   "source": [
    "# Experiment 6"
   ]
  },
  {
   "cell_type": "markdown",
   "metadata": {},
   "source": [
    "If $n$ is prime and $>2$, the number of $(a,b)$ is always 2."
   ]
  },
  {
   "cell_type": "code",
   "execution_count": 153,
   "metadata": {},
   "outputs": [],
   "source": [
    "def sum_of_squares_data(a_bound=10, b_bound=10):\n",
    "    sum_of_squares_database = {}\n",
    "    for a in [0..a_bound]:\n",
    "        for b in [0..b_bound]:\n",
    "            n = a^2 + b^2\n",
    "            if n not in sum_of_squares_database:\n",
    "                sum_of_squares_database[n] = [(a, b)]\n",
    "            else:\n",
    "                sum_of_squares_database[n].append((a,b))\n",
    "    return sum_of_squares_database"
   ]
  },
  {
   "cell_type": "code",
   "execution_count": 154,
   "metadata": {
    "scrolled": true
   },
   "outputs": [
    {
     "data": {
      "text/plain": [
       "{2: [(1, 1)],\n",
       " 5: [(1, 2), (2, 1)],\n",
       " 17: [(1, 4), (4, 1)],\n",
       " 37: [(1, 6), (6, 1)],\n",
       " 13: [(2, 3), (3, 2)],\n",
       " 29: [(2, 5), (5, 2)],\n",
       " 41: [(4, 5), (5, 4)],\n",
       " 61: [(5, 6), (6, 5)]}"
      ]
     },
     "execution_count": 154,
     "metadata": {},
     "output_type": "execute_result"
    }
   ],
   "source": [
    "prime_n ={key: sum_of_squares_database[key] for key in list(filter(is_prime, sum_of_squares_database))};prime_n"
   ]
  },
  {
   "cell_type": "code",
   "execution_count": 155,
   "metadata": {},
   "outputs": [],
   "source": [
    "del prime_n[2]"
   ]
  },
  {
   "cell_type": "code",
   "execution_count": 156,
   "metadata": {},
   "outputs": [
    {
     "data": {
      "text/plain": [
       "True"
      ]
     },
     "execution_count": 156,
     "metadata": {},
     "output_type": "execute_result"
    }
   ],
   "source": [
    "length = lambda length: len(length)\n",
    "all(map(length, prime_n.items()))"
   ]
  },
  {
   "cell_type": "markdown",
   "metadata": {},
   "source": [
    "# Experiment 7"
   ]
  },
  {
   "cell_type": "markdown",
   "metadata": {},
   "source": [
    " If $a=b$, $n=2a^2$ or $n=2b^2$. If a or b is equal to zero, then $n=a^2$ or $b^2$."
   ]
  },
  {
   "cell_type": "code",
   "execution_count": 157,
   "metadata": {},
   "outputs": [],
   "source": [
    "def sum_of_squares_data(a_bound=10, b_bound=10):\n",
    "    sum_of_squares_database = {}\n",
    "    for a in [0..a_bound]:\n",
    "        for b in [0..b_bound]:\n",
    "            n = a^2 + b^2\n",
    "            if a==b: # condition if a== b\n",
    "                n = 2 *b^2\n",
    "            elif a==0 or b ==0: #or else a or b = 0\n",
    "                n=a^2 if b==0 else b^2\n",
    "            else:\n",
    "                continue\n",
    "            if n not in sum_of_squares_database:\n",
    "                sum_of_squares_database[n] = [(a, b)]\n",
    "            else:\n",
    "                sum_of_squares_database[n].append((a,b))\n",
    "    return sum_of_squares_database"
   ]
  },
  {
   "cell_type": "code",
   "execution_count": 158,
   "metadata": {},
   "outputs": [
    {
     "data": {
      "text/plain": [
       "{0: [(0, 0)],\n",
       " 1: [(0, 1), (1, 0)],\n",
       " 4: [(0, 2), (2, 0)],\n",
       " 9: [(0, 3), (3, 0)],\n",
       " 16: [(0, 4), (4, 0)],\n",
       " 25: [(0, 5), (5, 0)],\n",
       " 36: [(0, 6), (6, 0)],\n",
       " 49: [(0, 7), (7, 0)],\n",
       " 64: [(0, 8), (8, 0)],\n",
       " 81: [(0, 9), (9, 0)],\n",
       " 100: [(0, 10), (10, 0)],\n",
       " 2: [(1, 1)],\n",
       " 8: [(2, 2)],\n",
       " 18: [(3, 3)],\n",
       " 32: [(4, 4)],\n",
       " 50: [(5, 5)],\n",
       " 72: [(6, 6)],\n",
       " 98: [(7, 7)],\n",
       " 128: [(8, 8)],\n",
       " 162: [(9, 9)],\n",
       " 200: [(10, 10)]}"
      ]
     },
     "execution_count": 158,
     "metadata": {},
     "output_type": "execute_result"
    }
   ],
   "source": [
    "sum_of_squares_data()"
   ]
  },
  {
   "cell_type": "markdown",
   "metadata": {},
   "source": [
    "# Experiment 8"
   ]
  },
  {
   "cell_type": "markdown",
   "metadata": {},
   "source": [
    "If $n$ is a perfect square, the number of $(a,b)$ is 2."
   ]
  },
  {
   "cell_type": "code",
   "execution_count": 159,
   "metadata": {},
   "outputs": [],
   "source": [
    "def sum_of_squares_data(a_bound=10, b_bound=10):\n",
    "    sum_of_squares_database = {}\n",
    "    for a in [0..a_bound]:\n",
    "        for b in [0..b_bound]:\n",
    "            n = a^2 + b^2\n",
    "            if sqrt(n).is_integer():\n",
    "                if n not in sum_of_squares_database:\n",
    "                    sum_of_squares_database[n] = [(a, b)]\n",
    "                else:\n",
    "                    sum_of_squares_database[n].append((a,b))\n",
    "# Using a counter example to show that the conjecture is not always true                  \n",
    "    pairs = { n: pairs for n , pairs in sum_of_squares_database.items() if len(pairs) ==4}\n",
    "    return pairs\n",
    "    "
   ]
  },
  {
   "cell_type": "code",
   "execution_count": 160,
   "metadata": {},
   "outputs": [
    {
     "data": {
      "text/plain": [
       "{25: [(0, 5), (3, 4), (4, 3), (5, 0)], 100: [(0, 10), (6, 8), (8, 6), (10, 0)]}"
      ]
     },
     "execution_count": 160,
     "metadata": {},
     "output_type": "execute_result"
    }
   ],
   "source": [
    "sum_of_squares_data()"
   ]
  },
  {
   "cell_type": "markdown",
   "metadata": {},
   "source": [
    "# Experiment 9 "
   ]
  },
  {
   "cell_type": "markdown",
   "metadata": {},
   "source": [
    "If $n$ is an odd prime and can be written as 1 mod 4, then it can be written as $a^2+b^2$."
   ]
  },
  {
   "cell_type": "code",
   "execution_count": 161,
   "metadata": {},
   "outputs": [],
   "source": [
    "def sum_of_squares_data(a_bound=20, b_bound=20):\n",
    "    sum_of_squares_database = {}\n",
    "    for a in [0..a_bound]:\n",
    "        for b in [0..b_bound]:\n",
    "            n = a^2 + b^2\n",
    "            if n not in sum_of_squares_database:\n",
    "                sum_of_squares_database[n] = [(a, b)]\n",
    "            else:\n",
    "                sum_of_squares_database[n].append((a,b))\n",
    "    return sum_of_squares_database"
   ]
  },
  {
   "cell_type": "code",
   "execution_count": 162,
   "metadata": {},
   "outputs": [
    {
     "data": {
      "text/plain": [
       "{0: [(0, 0)],\n",
       " 1: [(0, 1), (1, 0)],\n",
       " 4: [(0, 2), (2, 0)],\n",
       " 9: [(0, 3), (3, 0)],\n",
       " 16: [(0, 4), (4, 0)],\n",
       " 25: [(0, 5), (3, 4), (4, 3), (5, 0)],\n",
       " 36: [(0, 6), (6, 0)],\n",
       " 49: [(0, 7), (7, 0)],\n",
       " 64: [(0, 8), (8, 0)],\n",
       " 81: [(0, 9), (9, 0)],\n",
       " 100: [(0, 10), (6, 8), (8, 6), (10, 0)],\n",
       " 121: [(0, 11), (11, 0)],\n",
       " 144: [(0, 12), (12, 0)],\n",
       " 169: [(0, 13), (5, 12), (12, 5), (13, 0)],\n",
       " 196: [(0, 14), (14, 0)],\n",
       " 225: [(0, 15), (9, 12), (12, 9), (15, 0)],\n",
       " 256: [(0, 16), (16, 0)],\n",
       " 289: [(0, 17), (8, 15), (15, 8), (17, 0)],\n",
       " 324: [(0, 18), (18, 0)],\n",
       " 361: [(0, 19), (19, 0)],\n",
       " 400: [(0, 20), (12, 16), (16, 12), (20, 0)],\n",
       " 2: [(1, 1)],\n",
       " 5: [(1, 2), (2, 1)],\n",
       " 10: [(1, 3), (3, 1)],\n",
       " 17: [(1, 4), (4, 1)],\n",
       " 26: [(1, 5), (5, 1)],\n",
       " 37: [(1, 6), (6, 1)],\n",
       " 50: [(1, 7), (5, 5), (7, 1)],\n",
       " 65: [(1, 8), (4, 7), (7, 4), (8, 1)],\n",
       " 82: [(1, 9), (9, 1)],\n",
       " 101: [(1, 10), (10, 1)],\n",
       " 122: [(1, 11), (11, 1)],\n",
       " 145: [(1, 12), (8, 9), (9, 8), (12, 1)],\n",
       " 170: [(1, 13), (7, 11), (11, 7), (13, 1)],\n",
       " 197: [(1, 14), (14, 1)],\n",
       " 226: [(1, 15), (15, 1)],\n",
       " 257: [(1, 16), (16, 1)],\n",
       " 290: [(1, 17), (11, 13), (13, 11), (17, 1)],\n",
       " 325: [(1, 18), (6, 17), (10, 15), (15, 10), (17, 6), (18, 1)],\n",
       " 362: [(1, 19), (19, 1)],\n",
       " 401: [(1, 20), (20, 1)],\n",
       " 8: [(2, 2)],\n",
       " 13: [(2, 3), (3, 2)],\n",
       " 20: [(2, 4), (4, 2)],\n",
       " 29: [(2, 5), (5, 2)],\n",
       " 40: [(2, 6), (6, 2)],\n",
       " 53: [(2, 7), (7, 2)],\n",
       " 68: [(2, 8), (8, 2)],\n",
       " 85: [(2, 9), (6, 7), (7, 6), (9, 2)],\n",
       " 104: [(2, 10), (10, 2)],\n",
       " 125: [(2, 11), (5, 10), (10, 5), (11, 2)],\n",
       " 148: [(2, 12), (12, 2)],\n",
       " 173: [(2, 13), (13, 2)],\n",
       " 200: [(2, 14), (10, 10), (14, 2)],\n",
       " 229: [(2, 15), (15, 2)],\n",
       " 260: [(2, 16), (8, 14), (14, 8), (16, 2)],\n",
       " 293: [(2, 17), (17, 2)],\n",
       " 328: [(2, 18), (18, 2)],\n",
       " 365: [(2, 19), (13, 14), (14, 13), (19, 2)],\n",
       " 404: [(2, 20), (20, 2)],\n",
       " 18: [(3, 3)],\n",
       " 34: [(3, 5), (5, 3)],\n",
       " 45: [(3, 6), (6, 3)],\n",
       " 58: [(3, 7), (7, 3)],\n",
       " 73: [(3, 8), (8, 3)],\n",
       " 90: [(3, 9), (9, 3)],\n",
       " 109: [(3, 10), (10, 3)],\n",
       " 130: [(3, 11), (7, 9), (9, 7), (11, 3)],\n",
       " 153: [(3, 12), (12, 3)],\n",
       " 178: [(3, 13), (13, 3)],\n",
       " 205: [(3, 14), (6, 13), (13, 6), (14, 3)],\n",
       " 234: [(3, 15), (15, 3)],\n",
       " 265: [(3, 16), (11, 12), (12, 11), (16, 3)],\n",
       " 298: [(3, 17), (17, 3)],\n",
       " 333: [(3, 18), (18, 3)],\n",
       " 370: [(3, 19), (9, 17), (17, 9), (19, 3)],\n",
       " 409: [(3, 20), (20, 3)],\n",
       " 32: [(4, 4)],\n",
       " 41: [(4, 5), (5, 4)],\n",
       " 52: [(4, 6), (6, 4)],\n",
       " 80: [(4, 8), (8, 4)],\n",
       " 97: [(4, 9), (9, 4)],\n",
       " 116: [(4, 10), (10, 4)],\n",
       " 137: [(4, 11), (11, 4)],\n",
       " 160: [(4, 12), (12, 4)],\n",
       " 185: [(4, 13), (8, 11), (11, 8), (13, 4)],\n",
       " 212: [(4, 14), (14, 4)],\n",
       " 241: [(4, 15), (15, 4)],\n",
       " 272: [(4, 16), (16, 4)],\n",
       " 305: [(4, 17), (7, 16), (16, 7), (17, 4)],\n",
       " 340: [(4, 18), (12, 14), (14, 12), (18, 4)],\n",
       " 377: [(4, 19), (11, 16), (16, 11), (19, 4)],\n",
       " 416: [(4, 20), (20, 4)],\n",
       " 61: [(5, 6), (6, 5)],\n",
       " 74: [(5, 7), (7, 5)],\n",
       " 89: [(5, 8), (8, 5)],\n",
       " 106: [(5, 9), (9, 5)],\n",
       " 146: [(5, 11), (11, 5)],\n",
       " 194: [(5, 13), (13, 5)],\n",
       " 221: [(5, 14), (10, 11), (11, 10), (14, 5)],\n",
       " 250: [(5, 15), (9, 13), (13, 9), (15, 5)],\n",
       " 281: [(5, 16), (16, 5)],\n",
       " 314: [(5, 17), (17, 5)],\n",
       " 349: [(5, 18), (18, 5)],\n",
       " 386: [(5, 19), (19, 5)],\n",
       " 425: [(5, 20), (8, 19), (13, 16), (16, 13), (19, 8), (20, 5)],\n",
       " 72: [(6, 6)],\n",
       " 117: [(6, 9), (9, 6)],\n",
       " 136: [(6, 10), (10, 6)],\n",
       " 157: [(6, 11), (11, 6)],\n",
       " 180: [(6, 12), (12, 6)],\n",
       " 232: [(6, 14), (14, 6)],\n",
       " 261: [(6, 15), (15, 6)],\n",
       " 292: [(6, 16), (16, 6)],\n",
       " 360: [(6, 18), (18, 6)],\n",
       " 397: [(6, 19), (19, 6)],\n",
       " 436: [(6, 20), (20, 6)],\n",
       " 98: [(7, 7)],\n",
       " 113: [(7, 8), (8, 7)],\n",
       " 149: [(7, 10), (10, 7)],\n",
       " 193: [(7, 12), (12, 7)],\n",
       " 218: [(7, 13), (13, 7)],\n",
       " 245: [(7, 14), (14, 7)],\n",
       " 274: [(7, 15), (15, 7)],\n",
       " 338: [(7, 17), (13, 13), (17, 7)],\n",
       " 373: [(7, 18), (18, 7)],\n",
       " 410: [(7, 19), (11, 17), (17, 11), (19, 7)],\n",
       " 449: [(7, 20), (20, 7)],\n",
       " 128: [(8, 8)],\n",
       " 164: [(8, 10), (10, 8)],\n",
       " 208: [(8, 12), (12, 8)],\n",
       " 233: [(8, 13), (13, 8)],\n",
       " 320: [(8, 16), (16, 8)],\n",
       " 353: [(8, 17), (17, 8)],\n",
       " 388: [(8, 18), (18, 8)],\n",
       " 464: [(8, 20), (20, 8)],\n",
       " 162: [(9, 9)],\n",
       " 181: [(9, 10), (10, 9)],\n",
       " 202: [(9, 11), (11, 9)],\n",
       " 277: [(9, 14), (14, 9)],\n",
       " 306: [(9, 15), (15, 9)],\n",
       " 337: [(9, 16), (16, 9)],\n",
       " 405: [(9, 18), (18, 9)],\n",
       " 442: [(9, 19), (19, 9)],\n",
       " 481: [(9, 20), (15, 16), (16, 15), (20, 9)],\n",
       " 244: [(10, 12), (12, 10)],\n",
       " 269: [(10, 13), (13, 10)],\n",
       " 296: [(10, 14), (14, 10)],\n",
       " 356: [(10, 16), (16, 10)],\n",
       " 389: [(10, 17), (17, 10)],\n",
       " 424: [(10, 18), (18, 10)],\n",
       " 461: [(10, 19), (19, 10)],\n",
       " 500: [(10, 20), (20, 10)],\n",
       " 242: [(11, 11)],\n",
       " 317: [(11, 14), (14, 11)],\n",
       " 346: [(11, 15), (15, 11)],\n",
       " 445: [(11, 18), (18, 11)],\n",
       " 482: [(11, 19), (19, 11)],\n",
       " 521: [(11, 20), (20, 11)],\n",
       " 288: [(12, 12)],\n",
       " 313: [(12, 13), (13, 12)],\n",
       " 369: [(12, 15), (15, 12)],\n",
       " 433: [(12, 17), (17, 12)],\n",
       " 468: [(12, 18), (18, 12)],\n",
       " 505: [(12, 19), (19, 12)],\n",
       " 544: [(12, 20), (20, 12)],\n",
       " 394: [(13, 15), (15, 13)],\n",
       " 458: [(13, 17), (17, 13)],\n",
       " 493: [(13, 18), (18, 13)],\n",
       " 530: [(13, 19), (19, 13)],\n",
       " 569: [(13, 20), (20, 13)],\n",
       " 392: [(14, 14)],\n",
       " 421: [(14, 15), (15, 14)],\n",
       " 452: [(14, 16), (16, 14)],\n",
       " 485: [(14, 17), (17, 14)],\n",
       " 520: [(14, 18), (18, 14)],\n",
       " 557: [(14, 19), (19, 14)],\n",
       " 596: [(14, 20), (20, 14)],\n",
       " 450: [(15, 15)],\n",
       " 514: [(15, 17), (17, 15)],\n",
       " 549: [(15, 18), (18, 15)],\n",
       " 586: [(15, 19), (19, 15)],\n",
       " 625: [(15, 20), (20, 15)],\n",
       " 512: [(16, 16)],\n",
       " 545: [(16, 17), (17, 16)],\n",
       " 580: [(16, 18), (18, 16)],\n",
       " 617: [(16, 19), (19, 16)],\n",
       " 656: [(16, 20), (20, 16)],\n",
       " 578: [(17, 17)],\n",
       " 613: [(17, 18), (18, 17)],\n",
       " 650: [(17, 19), (19, 17)],\n",
       " 689: [(17, 20), (20, 17)],\n",
       " 648: [(18, 18)],\n",
       " 685: [(18, 19), (19, 18)],\n",
       " 724: [(18, 20), (20, 18)],\n",
       " 722: [(19, 19)],\n",
       " 761: [(19, 20), (20, 19)],\n",
       " 800: [(20, 20)]}"
      ]
     },
     "execution_count": 162,
     "metadata": {},
     "output_type": "execute_result"
    }
   ],
   "source": [
    "a_bound=20\n",
    "b_bound=20\n",
    "\n",
    "sum_of_squares_database = sum_of_squares_data(a_bound=a_bound, b_bound=b_bound)\n",
    "sum_of_squares_database"
   ]
  },
  {
   "cell_type": "code",
   "execution_count": 163,
   "metadata": {},
   "outputs": [],
   "source": [
    "nn = []\n",
    "length = []\n",
    "for i in prime_n.keys():\n",
    "    if len(prime_n[i])==2:\n",
    "        nn.append(i)\n",
    "        length.append(len(prime_n[i]))\n",
    "\n",
    "        "
   ]
  },
  {
   "cell_type": "code",
   "execution_count": 164,
   "metadata": {},
   "outputs": [
    {
     "data": {
      "text/plain": [
       "{2: [(1, 1)],\n",
       " 5: [(1, 2), (2, 1)],\n",
       " 17: [(1, 4), (4, 1)],\n",
       " 37: [(1, 6), (6, 1)],\n",
       " 101: [(1, 10), (10, 1)],\n",
       " 197: [(1, 14), (14, 1)],\n",
       " 257: [(1, 16), (16, 1)],\n",
       " 401: [(1, 20), (20, 1)],\n",
       " 13: [(2, 3), (3, 2)],\n",
       " 29: [(2, 5), (5, 2)],\n",
       " 53: [(2, 7), (7, 2)],\n",
       " 173: [(2, 13), (13, 2)],\n",
       " 229: [(2, 15), (15, 2)],\n",
       " 293: [(2, 17), (17, 2)],\n",
       " 73: [(3, 8), (8, 3)],\n",
       " 109: [(3, 10), (10, 3)],\n",
       " 409: [(3, 20), (20, 3)],\n",
       " 41: [(4, 5), (5, 4)],\n",
       " 97: [(4, 9), (9, 4)],\n",
       " 137: [(4, 11), (11, 4)],\n",
       " 241: [(4, 15), (15, 4)],\n",
       " 61: [(5, 6), (6, 5)],\n",
       " 89: [(5, 8), (8, 5)],\n",
       " 281: [(5, 16), (16, 5)],\n",
       " 349: [(5, 18), (18, 5)],\n",
       " 157: [(6, 11), (11, 6)],\n",
       " 397: [(6, 19), (19, 6)],\n",
       " 113: [(7, 8), (8, 7)],\n",
       " 149: [(7, 10), (10, 7)],\n",
       " 193: [(7, 12), (12, 7)],\n",
       " 373: [(7, 18), (18, 7)],\n",
       " 449: [(7, 20), (20, 7)],\n",
       " 233: [(8, 13), (13, 8)],\n",
       " 353: [(8, 17), (17, 8)],\n",
       " 181: [(9, 10), (10, 9)],\n",
       " 277: [(9, 14), (14, 9)],\n",
       " 337: [(9, 16), (16, 9)],\n",
       " 269: [(10, 13), (13, 10)],\n",
       " 389: [(10, 17), (17, 10)],\n",
       " 461: [(10, 19), (19, 10)],\n",
       " 317: [(11, 14), (14, 11)],\n",
       " 521: [(11, 20), (20, 11)],\n",
       " 313: [(12, 13), (13, 12)],\n",
       " 433: [(12, 17), (17, 12)],\n",
       " 569: [(13, 20), (20, 13)],\n",
       " 421: [(14, 15), (15, 14)],\n",
       " 557: [(14, 19), (19, 14)],\n",
       " 617: [(16, 19), (19, 16)],\n",
       " 613: [(17, 18), (18, 17)],\n",
       " 761: [(19, 20), (20, 19)]}"
      ]
     },
     "execution_count": 164,
     "metadata": {},
     "output_type": "execute_result"
    }
   ],
   "source": [
    "prime ={key: sum_of_squares_database[key] for key in list(filter(is_prime, sum_of_squares_database))};prime"
   ]
  },
  {
   "cell_type": "code",
   "execution_count": 165,
   "metadata": {},
   "outputs": [],
   "source": [
    "mod_list = []\n",
    "for i in prime.keys():\n",
    "        if mod(i,4)==1:\n",
    "            mod_list.append(i)\n",
    "        "
   ]
  },
  {
   "cell_type": "code",
   "execution_count": 166,
   "metadata": {
    "scrolled": true
   },
   "outputs": [
    {
     "data": {
      "text/plain": [
       "[5,\n",
       " 17,\n",
       " 37,\n",
       " 101,\n",
       " 197,\n",
       " 257,\n",
       " 401,\n",
       " 13,\n",
       " 29,\n",
       " 53,\n",
       " 173,\n",
       " 229,\n",
       " 293,\n",
       " 73,\n",
       " 109,\n",
       " 409,\n",
       " 41,\n",
       " 97,\n",
       " 137,\n",
       " 241,\n",
       " 61,\n",
       " 89,\n",
       " 281,\n",
       " 349,\n",
       " 157,\n",
       " 397,\n",
       " 113,\n",
       " 149,\n",
       " 193,\n",
       " 373,\n",
       " 449,\n",
       " 233,\n",
       " 353,\n",
       " 181,\n",
       " 277,\n",
       " 337,\n",
       " 269,\n",
       " 389,\n",
       " 461,\n",
       " 317,\n",
       " 521,\n",
       " 313,\n",
       " 433,\n",
       " 569,\n",
       " 421,\n",
       " 557,\n",
       " 617,\n",
       " 613,\n",
       " 761]"
      ]
     },
     "execution_count": 166,
     "metadata": {},
     "output_type": "execute_result"
    }
   ],
   "source": [
    "mod_list"
   ]
  },
  {
   "cell_type": "code",
   "execution_count": 167,
   "metadata": {},
   "outputs": [
    {
     "data": {
      "text/html": [
       "<div class=\"notruncate\">\n",
       "<table  class=\"table_form\">\n",
       "<tbody>\n",
       "<tr class =\"row-a\">\n",
       "<td><script type=\"math/tex\">5</script></td>\n",
       "<td><script type=\"math/tex\">17</script></td>\n",
       "<td><script type=\"math/tex\">37</script></td>\n",
       "<td><script type=\"math/tex\">101</script></td>\n",
       "<td><script type=\"math/tex\">197</script></td>\n",
       "<td><script type=\"math/tex\">257</script></td>\n",
       "<td><script type=\"math/tex\">401</script></td>\n",
       "<td><script type=\"math/tex\">13</script></td>\n",
       "<td><script type=\"math/tex\">29</script></td>\n",
       "<td><script type=\"math/tex\">53</script></td>\n",
       "<td><script type=\"math/tex\">173</script></td>\n",
       "<td><script type=\"math/tex\">229</script></td>\n",
       "<td><script type=\"math/tex\">293</script></td>\n",
       "<td><script type=\"math/tex\">73</script></td>\n",
       "<td><script type=\"math/tex\">109</script></td>\n",
       "<td><script type=\"math/tex\">409</script></td>\n",
       "<td><script type=\"math/tex\">41</script></td>\n",
       "<td><script type=\"math/tex\">97</script></td>\n",
       "<td><script type=\"math/tex\">137</script></td>\n",
       "<td><script type=\"math/tex\">241</script></td>\n",
       "<td><script type=\"math/tex\">61</script></td>\n",
       "<td><script type=\"math/tex\">89</script></td>\n",
       "<td><script type=\"math/tex\">281</script></td>\n",
       "<td><script type=\"math/tex\">349</script></td>\n",
       "<td><script type=\"math/tex\">157</script></td>\n",
       "<td><script type=\"math/tex\">397</script></td>\n",
       "<td><script type=\"math/tex\">113</script></td>\n",
       "<td><script type=\"math/tex\">149</script></td>\n",
       "<td><script type=\"math/tex\">193</script></td>\n",
       "<td><script type=\"math/tex\">373</script></td>\n",
       "<td><script type=\"math/tex\">449</script></td>\n",
       "<td><script type=\"math/tex\">233</script></td>\n",
       "<td><script type=\"math/tex\">353</script></td>\n",
       "<td><script type=\"math/tex\">181</script></td>\n",
       "<td><script type=\"math/tex\">277</script></td>\n",
       "<td><script type=\"math/tex\">337</script></td>\n",
       "<td><script type=\"math/tex\">269</script></td>\n",
       "<td><script type=\"math/tex\">389</script></td>\n",
       "<td><script type=\"math/tex\">461</script></td>\n",
       "<td><script type=\"math/tex\">317</script></td>\n",
       "<td><script type=\"math/tex\">521</script></td>\n",
       "<td><script type=\"math/tex\">313</script></td>\n",
       "<td><script type=\"math/tex\">433</script></td>\n",
       "<td><script type=\"math/tex\">569</script></td>\n",
       "<td><script type=\"math/tex\">421</script></td>\n",
       "<td><script type=\"math/tex\">557</script></td>\n",
       "<td><script type=\"math/tex\">617</script></td>\n",
       "<td><script type=\"math/tex\">613</script></td>\n",
       "<td><script type=\"math/tex\">761</script></td>\n",
       "</tr>\n",
       "</tbody>\n",
       "</table>\n",
       "</div>"
      ],
      "text/plain": [
       "  5   17   37   101   197   257   401   13   29   53   173   229   293   73   109   409   41   97   137   241   61   89   281   349   157   397   113   149   193   373   449   233   353   181   277   337   269   389   461   317   521   313   433   569   421   557   617   613   761"
      ]
     },
     "execution_count": 167,
     "metadata": {},
     "output_type": "execute_result"
    }
   ],
   "source": [
    "table(_)"
   ]
  },
  {
   "cell_type": "markdown",
   "metadata": {},
   "source": [
    "After a while, we will come back and I will ask you about possible ways to rethink the problem on the sum of squares. "
   ]
  },
  {
   "cell_type": "markdown",
   "metadata": {},
   "source": [
    "Can you think of a way to solve this problem? _Hint: What do you know about equations of this form $n = a^{2} + b ^{2}$?_"
   ]
  },
  {
   "cell_type": "markdown",
   "metadata": {},
   "source": [
    "This brings up the question of how to do such plotting in the first place? We will look at this in more detail in the next [**Section**](#more-plotting-and-graphics-in-two-dimensions)."
   ]
  },
  {
   "cell_type": "markdown",
   "metadata": {},
   "source": [
    "## More Plotting and Graphics in Two Dimensions <a class = \"anchor\" id = \"more-plotting-and-graphics-in-two-dimensions\"></a>\n",
    "There is absolutely no way we could cover all the graphics in _SageMath_ (or the program that does it for _SageMath_, <a href=\"http://matplotlib.org/\" target=\"_blank\">matplotlib</a>) in one day, or even a week. We will look at a bunch of different resources you have access to, and see lots of different plot types. As we go through these resources, think of how they will be of use in solving our new experiment or where you could have used them some time back in your academic career. I definitely do not know everything about the plotting command. Nevertheless, you may interrupt me with your question so that we can explore the solution together. \n",
    "\n",
    "   * We will begin with the online documentation on [advanced 2D-plotting](https://doc.sagemath.org/html/en/prep/Advanced-2DPlotting.html) in the built-in live documentation. \n",
    "   * There are two very important pages with many, MANY examples - the documentation for [plot](http://www.sagemath.org/doc/reference/plotting/sage/plot/plot.html) and that for [showing graphics](http://www.sagemath.org/doc/reference/plotting/sage/plot/graphics.html#sage.plot.graphics.Graphics.show).\n",
    "   * The [general plotting reference](http://www.sagemath.org/doc/reference/plotting/index.html) - there are a lot of surprises, like animation, etc.\n",
    "\n",
    "Remember, you should feel free to stop listening for a while if you want to try something out!  \n",
    "Once we've seen enough examples, please either start using _SageMath_ to explore the sums of squares, _or_ try to recreate your favorite graphic using _SageMath_!"
   ]
  },
  {
   "cell_type": "code",
   "execution_count": null,
   "metadata": {},
   "outputs": [],
   "source": []
  },
  {
   "cell_type": "code",
   "execution_count": 9,
   "metadata": {
    "scrolled": true
   },
   "outputs": [
    {
     "data": {
      "text/plain": [
       "{0: [(0, 0)],\n",
       " 1: [(0, 1), (1, 0)],\n",
       " 4: [(0, 2), (2, 0)],\n",
       " 9: [(0, 3), (3, 0)],\n",
       " 16: [(0, 4), (4, 0)],\n",
       " 25: [(0, 5), (3, 4), (4, 3), (5, 0)],\n",
       " 36: [(0, 6), (6, 0)],\n",
       " 2: [(1, 1)],\n",
       " 5: [(1, 2), (2, 1)],\n",
       " 10: [(1, 3), (3, 1)],\n",
       " 17: [(1, 4), (4, 1)],\n",
       " 26: [(1, 5), (5, 1)],\n",
       " 37: [(1, 6), (6, 1)],\n",
       " 8: [(2, 2)],\n",
       " 13: [(2, 3), (3, 2)],\n",
       " 20: [(2, 4), (4, 2)],\n",
       " 29: [(2, 5), (5, 2)],\n",
       " 40: [(2, 6), (6, 2)],\n",
       " 18: [(3, 3)],\n",
       " 34: [(3, 5), (5, 3)],\n",
       " 45: [(3, 6), (6, 3)],\n",
       " 32: [(4, 4)],\n",
       " 41: [(4, 5), (5, 4)],\n",
       " 52: [(4, 6), (6, 4)],\n",
       " 50: [(5, 5)],\n",
       " 61: [(5, 6), (6, 5)],\n",
       " 72: [(6, 6)]}"
      ]
     },
     "execution_count": 9,
     "metadata": {},
     "output_type": "execute_result"
    }
   ],
   "source": [
    " sum_of_squares_data"
   ]
  }
 ],
 "metadata": {
  "kernelspec": {
   "display_name": "SageMath 9.5",
   "language": "sage",
   "name": "sagemath"
  },
  "language_info": {
   "codemirror_mode": {
    "name": "ipython",
    "version": 3
   },
   "file_extension": ".py",
   "mimetype": "text/x-python",
   "name": "python",
   "nbconvert_exporter": "python",
   "pygments_lexer": "ipython3",
   "version": "3.11.2"
  },
  "varInspector": {
   "cols": {
    "lenName": 16,
    "lenType": 16,
    "lenVar": 40
   },
   "kernels_config": {
    "python": {
     "delete_cmd_postfix": "",
     "delete_cmd_prefix": "del ",
     "library": "var_list.py",
     "varRefreshCmd": "print(var_dic_list())"
    },
    "r": {
     "delete_cmd_postfix": ") ",
     "delete_cmd_prefix": "rm(",
     "library": "var_list.r",
     "varRefreshCmd": "cat(var_dic_list()) "
    }
   },
   "types_to_exclude": [
    "module",
    "function",
    "builtin_function_or_method",
    "instance",
    "_Feature"
   ],
   "window_display": false
  }
 },
 "nbformat": 4,
 "nbformat_minor": 4
}
