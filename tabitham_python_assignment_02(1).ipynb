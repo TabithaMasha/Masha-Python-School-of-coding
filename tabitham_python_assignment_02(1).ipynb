{
 "cells": [
  {
   "cell_type": "markdown",
   "metadata": {},
   "source": [
    "# Programming with Python, assignment 2"
   ]
  },
  {
   "cell_type": "markdown",
   "metadata": {},
   "source": [
    "Please submit your notebook by the deadline announced by the tutors in a separate email."
   ]
  },
  {
   "cell_type": "markdown",
   "metadata": {},
   "source": [
    "## Part I: Programming"
   ]
  },
  {
   "cell_type": "markdown",
   "metadata": {},
   "source": [
    "Please run the code below first. Every time after you write a function you can test it using the box below the function. The test will tell you if it was successful or not based on the examples provided. **You should also create and test your own examples**. "
   ]
  },
  {
   "cell_type": "code",
   "execution_count": 3,
   "metadata": {},
   "outputs": [],
   "source": [
    "def test_function(data, correct_answers, f):\n",
    "    for i in range(len(data)):\n",
    "        answer = f(data[i])\n",
    "        if answer != correct_answers[i]:\n",
    "            print('WRONG ANSWER')\n",
    "            print('Argument:', data[i])\n",
    "            print('Correct answer:', correct_answers[i])\n",
    "            print('Your answer:', answer)\n",
    "            return\n",
    "    print('SUCCESS')"
   ]
  },
  {
   "cell_type": "markdown",
   "metadata": {},
   "source": [
    "### Problem 1"
   ]
  },
  {
   "cell_type": "markdown",
   "metadata": {},
   "source": [
    "Write a function that takes one argument: ``mark``, which is an integer between ``0`` and ``100``.\n",
    "The function should **return** a ``string`` according to AIMS grade scale. That is, it should return:\n",
    "* ``'FAIL'`` if ``mark`` is less than ``60``.\n",
    "* ``'PASS'`` if ``mark`` is at least ``60`` and less than ``70``.\n",
    "* ``'GOOD PASS'`` if ``mark`` is at least ``70`` and less than ``85``.\n",
    "* ``'DISTINCTION'`` if ``mark`` is at least ``85``."
   ]
  },
  {
   "cell_type": "code",
   "execution_count": 4,
   "metadata": {},
   "outputs": [],
   "source": [
    "def compute_grade(mark):\n",
    "    \n",
    "    if mark >= 85:\n",
    "        return 'DISTINCTION'\n",
    "    elif 70<= mark < 85:\n",
    "        return 'GOOD PASS'\n",
    "    elif 60<= mark < 70:\n",
    "         return 'PASS'\n",
    "    else:\n",
    "        return 'FAIL'\n",
    "        "
   ]
  },
  {
   "cell_type": "markdown",
   "metadata": {},
   "source": [
    "Test your function using code below. You will receive indication if your answers were correct."
   ]
  },
  {
   "cell_type": "code",
   "execution_count": 5,
   "metadata": {},
   "outputs": [
    {
     "name": "stdout",
     "output_type": "stream",
     "text": [
      "SUCCESS\n"
     ]
    }
   ],
   "source": [
    "data = [59, 41, 60, 89, 100, 0, 1, 59, 69, 70, 84, 85]\n",
    "correct_answers = [\n",
    "    'FAIL', 'FAIL', 'PASS', 'DISTINCTION', 'DISTINCTION', 'FAIL', \n",
    "    'FAIL', 'FAIL', 'PASS', 'GOOD PASS', 'GOOD PASS', 'DISTINCTION'\n",
    "]\n",
    "test_function(data, correct_answers, compute_grade)"
   ]
  },
  {
   "cell_type": "markdown",
   "metadata": {},
   "source": [
    "### Problem 2"
   ]
  },
  {
   "cell_type": "markdown",
   "metadata": {},
   "source": [
    "Write a Python function that **returns** the **factorial** ``n!`` of a natural number ``n``."
   ]
  },
  {
   "cell_type": "code",
   "execution_count": 6,
   "metadata": {},
   "outputs": [],
   "source": [
    "def factorial(n):\n",
    "    fact = 1\n",
    "    for i in range (1,n+1):\n",
    "        fact *= i\n",
    "    return fact\n",
    "    "
   ]
  },
  {
   "cell_type": "code",
   "execution_count": 7,
   "metadata": {},
   "outputs": [
    {
     "data": {
      "text/plain": [
       "120"
      ]
     },
     "execution_count": 7,
     "metadata": {},
     "output_type": "execute_result"
    }
   ],
   "source": [
    "factorial (5)"
   ]
  },
  {
   "cell_type": "code",
   "execution_count": 8,
   "metadata": {},
   "outputs": [
    {
     "name": "stdout",
     "output_type": "stream",
     "text": [
      "SUCCESS\n"
     ]
    }
   ],
   "source": [
    "data = [6, 3, 10, 1, 0, 2, 20, 99, 100]\n",
    "correct_answers = [\n",
    "    720, 6, 3628800, 1, 1, 2, 2432902008176640000, \n",
    "    933262154439441526816992388562667004907159682643816214685929638952175999932299156089414639761565182862536979208272237582511852109168640000000000000000000000, \n",
    "    93326215443944152681699238856266700490715968264381621468592963895217599993229915608941463976156518286253697920827223758251185210916864000000000000000000000000\n",
    "]\n",
    "test_function(data, correct_answers, factorial)"
   ]
  },
  {
   "cell_type": "markdown",
   "metadata": {},
   "source": [
    "### Problem 3"
   ]
  },
  {
   "cell_type": "markdown",
   "metadata": {},
   "source": [
    "Write a function that takes one argument: list ``L`` and **returns** another list which contains only **even** elements\n",
    "from ``L``."
   ]
  },
  {
   "cell_type": "code",
   "execution_count": 9,
   "metadata": {},
   "outputs": [],
   "source": [
    "def even_list(L):\n",
    "    L_even =[]\n",
    "    for i in L:\n",
    "        if i%2==0:\n",
    "            L_even.append(i)\n",
    "    return L_even\n",
    "    "
   ]
  },
  {
   "cell_type": "code",
   "execution_count": 10,
   "metadata": {},
   "outputs": [
    {
     "name": "stdout",
     "output_type": "stream",
     "text": [
      "[4, 6, 8, 10, 2, 34, 56, 78]\n"
     ]
    }
   ],
   "source": [
    "L= [ 1,4,6,8,10,2,34,56,11,78]\n",
    "print(even_list(L))\n"
   ]
  },
  {
   "cell_type": "code",
   "execution_count": 11,
   "metadata": {},
   "outputs": [
    {
     "name": "stdout",
     "output_type": "stream",
     "text": [
      "SUCCESS\n"
     ]
    }
   ],
   "source": [
    "data = [\n",
    "    [],\n",
    "    [1],\n",
    "    [2],\n",
    "    [2, 2],\n",
    "    [1, 2, 3, 1, 2, 4, 5, 100, 99],\n",
    "    [2, 4, 6],\n",
    "    [1, 3, 5]\n",
    "]\n",
    "correct_answers = [[], [], [2], [2, 2], [2, 2, 4, 100], [2, 4, 6], []]\n",
    "test_function(data, correct_answers, even_list)"
   ]
  },
  {
   "cell_type": "markdown",
   "metadata": {},
   "source": [
    "### Problem 4"
   ]
  },
  {
   "cell_type": "markdown",
   "metadata": {},
   "source": [
    "Write a function that takes one argument: string ``s`` and returns either ``True`` or ``False``. It should return ``True`` if and only if **the string is a name**. We assume that a string is a name if:\n",
    "* It starts with an uppercase letter.\n",
    "* All the other characters are lowercase letters."
   ]
  },
  {
   "cell_type": "markdown",
   "metadata": {},
   "source": [
    "Hint: To check if one character ``c`` is lowercase you use ``c.islower()``. To check uppercase you use ``c.isupper()``."
   ]
  },
  {
   "cell_type": "code",
   "execution_count": 12,
   "metadata": {},
   "outputs": [],
   "source": [
    "def is_name(s):\n",
    "    if s == '':\n",
    "        return False\n",
    "    elif s[0].isupper() and s[1:].islower() and s.isalpha():\n",
    "        \n",
    "        return True\n",
    "    elif s[0].isupper() and len(s)==1:\n",
    "        \n",
    "        return True\n",
    "    else:\n",
    "        return False\n",
    "  "
   ]
  },
  {
   "cell_type": "code",
   "execution_count": 13,
   "metadata": {},
   "outputs": [
    {
     "data": {
      "text/plain": [
       "True"
      ]
     },
     "execution_count": 13,
     "metadata": {},
     "output_type": "execute_result"
    }
   ],
   "source": [
    "('John')[0].isupper()"
   ]
  },
  {
   "cell_type": "code",
   "execution_count": 14,
   "metadata": {},
   "outputs": [
    {
     "name": "stdout",
     "output_type": "stream",
     "text": [
      "SUCCESS\n"
     ]
    }
   ],
   "source": [
    "data = ['', 'john', 'Alice', 'J', 'Jennifer1', 'B0ris', 'Bor!s', 'JAN']\n",
    "correct_answers = [False, False, True, True, False, False, False, False]\n",
    "test_function(data, correct_answers, is_name)"
   ]
  },
  {
   "cell_type": "markdown",
   "metadata": {},
   "source": [
    "### Problem 5"
   ]
  },
  {
   "cell_type": "markdown",
   "metadata": {},
   "source": [
    "Write a function that takes one argument: list of strings ``L``. The function should return an integer: **The first index where the list contains a name**. If there are no names on the list please return ``-1``.\n",
    "\n",
    "**Please use the function from Problem 4 in your solution**."
   ]
  },
  {
   "cell_type": "code",
   "execution_count": 15,
   "metadata": {},
   "outputs": [],
   "source": [
    "def first_name(L):\n",
    "    for n in  range (len(L)):\n",
    "        if is_name(L[n]):\n",
    "            return n\n",
    "    return -1\n",
    "       \n",
    "     "
   ]
  },
  {
   "cell_type": "code",
   "execution_count": 16,
   "metadata": {},
   "outputs": [
    {
     "data": {
      "text/plain": [
       "0"
      ]
     },
     "execution_count": 16,
     "metadata": {},
     "output_type": "execute_result"
    }
   ],
   "source": [
    "first_name(['Tim', 'Dan'])"
   ]
  },
  {
   "cell_type": "code",
   "execution_count": 17,
   "metadata": {},
   "outputs": [
    {
     "name": "stdout",
     "output_type": "stream",
     "text": [
      "SUCCESS\n"
     ]
    }
   ],
   "source": [
    "data = [\n",
    "    [],\n",
    "    ['Jan'],\n",
    "    ['jan', 'Jan'],\n",
    "    ['name with spaces', 'Tal1n', 'IsThisAName', 'Andthis?'],\n",
    "    ['noname', '', 'Name', 'AnotherNoName', 'Secondname']\n",
    "]\n",
    "correct_answers = [-1, 0, 1, -1, 2]\n",
    "test_function(data, correct_answers, first_name)"
   ]
  },
  {
   "cell_type": "markdown",
   "metadata": {},
   "source": [
    "### Problem 6"
   ]
  },
  {
   "cell_type": "markdown",
   "metadata": {},
   "source": [
    "Write a function that takes one argument: List of integers ``L`` and returns the **maximum element in ``L`` which is strictly negative**. If such an element does not exist, **return ``0``**."
   ]
  },
  {
   "cell_type": "code",
   "execution_count": 18,
   "metadata": {},
   "outputs": [],
   "source": [
    "def maximum_negative(L):\n",
    "    M = []\n",
    "    for i in L:\n",
    "        if i<0:\n",
    "            M.append(i)\n",
    "    if len(M) == 0:\n",
    "        return 0\n",
    "    else:\n",
    "        return max(M)\n",
    "       \n",
    "    \n",
    "   "
   ]
  },
  {
   "cell_type": "code",
   "execution_count": 19,
   "metadata": {},
   "outputs": [
    {
     "name": "stdout",
     "output_type": "stream",
     "text": [
      "-2\n"
     ]
    }
   ],
   "source": [
    "L = [9,8,-2,-3,-4]\n",
    "print(maximum_negative(L))"
   ]
  },
  {
   "cell_type": "code",
   "execution_count": 20,
   "metadata": {},
   "outputs": [
    {
     "name": "stdout",
     "output_type": "stream",
     "text": [
      "SUCCESS\n"
     ]
    }
   ],
   "source": [
    "data = [\n",
    "    [],\n",
    "    [1, 2, 0, 3],\n",
    "    [1, 2],\n",
    "    [-1, 4, 1, -2, -3, -5],\n",
    "    [1, 4, 1, -2, -3, -5],\n",
    "    [1, -4, 1, 2, 3, -5],\n",
    "    [-999],\n",
    "    [2, 3, 40, -1],\n",
    "    [7, -40, 19],\n",
    "    [-2, -3, 0]\n",
    "]\n",
    "correct_answers = [0, 0, 0, -1, -2, -4, -999, -1, -40, -2]\n",
    "test_function(data, correct_answers, maximum_negative)"
   ]
  },
  {
   "cell_type": "markdown",
   "metadata": {},
   "source": [
    "### Problem 7"
   ]
  },
  {
   "cell_type": "markdown",
   "metadata": {},
   "source": [
    "Write a function that takes one argument: A matrix of integers ``M`` and:\n",
    "* For each **row** computes the maximum negative element.\n",
    "* Returns the **sum of those elements**.\n",
    "\n",
    "You can use the function from Problem 6 in your solution."
   ]
  },
  {
   "cell_type": "code",
   "execution_count": 21,
   "metadata": {},
   "outputs": [],
   "source": [
    "def sum_max_negative_rows(M):\n",
    "    \n",
    "    t = 0\n",
    "    for i in M:\n",
    "        t+=maximum_negative(i)\n",
    "    return t   \n",
    "        \n",
    "    "
   ]
  },
  {
   "cell_type": "code",
   "execution_count": 22,
   "metadata": {},
   "outputs": [
    {
     "name": "stdout",
     "output_type": "stream",
     "text": [
      "SUCCESS\n"
     ]
    }
   ],
   "source": [
    "data = [\n",
    "    [[1, 2, 3], [4, 5, 6], [7, 8, 9]],\n",
    "    [[-1, 4, 1, -2, -3, -5],\n",
    "    [1, 4, 1, -2, -3, -5],\n",
    "    [1, -4, 1, 2, 3, -5]],\n",
    "    [[-1000], [-50], [10]],\n",
    "    [[-1000, -50, 10]]\n",
    "]\n",
    "correct_answers = [0, -7, -1050, -50]\n",
    "test_function(data, correct_answers, sum_max_negative_rows)"
   ]
  },
  {
   "cell_type": "markdown",
   "metadata": {},
   "source": [
    "### Problem 8"
   ]
  },
  {
   "cell_type": "markdown",
   "metadata": {},
   "source": [
    "Write a function that takes one argument: A string ``s`` and returns another string ``t``. The string ``t`` should be constructed from ``s`` such that:\n",
    "* All **upper** case letters from ``s`` are changed into **lower** case.\n",
    "* All **lower** case letters from ``s`` are changed into **upper** case.\n",
    "* All characters from ``s`` that are not letters are **deleted**."
   ]
  },
  {
   "cell_type": "code",
   "execution_count": 23,
   "metadata": {},
   "outputs": [],
   "source": [
    "def transform_string(s):\n",
    "    d = \"\"\n",
    "    for i in range (len(s)):\n",
    "        if s[i].isalpha() and s[i].isupper():\n",
    "            d+= s[i].lower()\n",
    "        elif s[i].isalpha() and s[i].islower():\n",
    "            d+= s[i].upper()\n",
    "                 \n",
    "    return d\n",
    "    \n",
    "    "
   ]
  },
  {
   "cell_type": "code",
   "execution_count": 24,
   "metadata": {},
   "outputs": [
    {
     "data": {
      "text/plain": [
       "'tABIITHA'"
      ]
     },
     "execution_count": 24,
     "metadata": {},
     "output_type": "execute_result"
    }
   ],
   "source": [
    "transform_string('Tabiitha123')"
   ]
  },
  {
   "cell_type": "code",
   "execution_count": 25,
   "metadata": {},
   "outputs": [
    {
     "name": "stdout",
     "output_type": "stream",
     "text": [
      "SUCCESS\n"
     ]
    }
   ],
   "source": [
    "data = [\n",
    "    '',\n",
    "    'BHQQSRYAZ',\n",
    "    'afcxztdf',\n",
    "    '?12125&!!!',\n",
    "    'q4,1o\\n0OPq1RWW'\n",
    "]\n",
    "correct_answers = ['', 'bhqqsryaz', 'AFCXZTDF', '', 'QOopQrww']\n",
    "test_function(data, correct_answers, transform_string)"
   ]
  },
  {
   "cell_type": "markdown",
   "metadata": {},
   "source": [
    "### Problem 9"
   ]
  },
  {
   "cell_type": "markdown",
   "metadata": {},
   "source": [
    "Write a function that takes two arguments:\n",
    "* The **first** argument is a list `L` that contains tuples. Each tuple contains 3 elements. The first is a string, which is a name. The second is one character: ``'F'`` for female or ``'M'`` for male. The third element is an integer which is a mark.\n",
    "* The **second** argument ``mode`` is one character: ``'M'``, ``'F'`` or ``'A'``, standing for male, female and all.\n",
    "\n",
    "The function should return one **float** number.\n",
    "* If the second argument is ``'F'``, it should be the average mark for females.\n",
    "* If the second argument is ``'M'``, it should be the average mark for males.\n",
    "* If the second argument is ``'A'``, it should be the average mark for all students.\n",
    "* If there are no students in a given category, return ``0.0``."
   ]
  },
  {
   "cell_type": "code",
   "execution_count": 26,
   "metadata": {},
   "outputs": [],
   "source": [
    "import math\n",
    "def average_mark(L, mode):\n",
    "    total = []\n",
    "    for name,gender,mark in L:\n",
    "        if mode == 'A' or mode ==  gender:\n",
    "            total.append(mark)\n",
    "    if total:\n",
    "            return float(sum(total)) / len(total)\n",
    "    else:\n",
    "        return 0.0\n",
    "            "
   ]
  },
  {
   "cell_type": "code",
   "execution_count": 27,
   "metadata": {},
   "outputs": [
    {
     "name": "stdout",
     "output_type": "stream",
     "text": [
      "SUCCESS\n"
     ]
    }
   ],
   "source": [
    "import math\n",
    "data1 = [\n",
    "    [],\n",
    "    [('Ibrahim', 'M', 30), ('John', 'M', 40), ('Emmanuel', 'M', 50)],\n",
    "    [('Gladys', 'F', 61), ('Grace', 'F', 71), ('Henriette', 'F', 81)],\n",
    "    [('Jacqeuline', 'F', 92), ('Jean', 'M', 32), ('Jennifer', 'F', 45), ('Yemi', 'F', 53), \n",
    "     ('Mohamed', 'M', 73), ('Remy', 'M', 69), ('Titus', 'M', 39), ('Teboho', 'M', 61), \n",
    "     ('Martin', 'M', 88), ('Therese', 'F', 79)],\n",
    "    [('Mohamed', 'M', 73), ('Remy', 'M', 69), ('Titus', 'M', 39), ('Teboho', 'M', 61), \n",
    "     ('Martin', 'M', 88), ('Therese', 'F', 79),\n",
    "     ('Jacqeuline', 'F', 92), ('Jean', 'M', 32), ('Jennifer', 'F', 45), ('Yemi', 'F', 53)], \n",
    "    [('Martin', 'M', 88), ('Therese', 'F', 79),\n",
    "     ('Jacqeuline', 'F', 92), ('Jean', 'M', 32), ('Jennifer', 'F', 45), ('Yemi', 'F', 53),\n",
    "     ('Mohamed', 'M', 73), ('Remy', 'M', 69), ('Titus', 'M', 39), ('Teboho', 'M', 61)] \n",
    "]\n",
    "data2 = ['A', 'F', 'M', 'F', 'M', 'A']\n",
    "correct_answers = [0.0, 0.0, 0.0, 67.25, 60.333333333333336, 63.1]\n",
    "\n",
    "def test_average(data1, data2, correct_answers, tolerance=1e-6):\n",
    "    for i in range(len(data1)):\n",
    "        answer = average_mark(data1[i], data2[i])\n",
    "        if not (isinstance(answer, float)) or math.fabs(answer-correct_answers[i]) > tolerance:\n",
    "            print('WRONG ANSWER')\n",
    "            print('Arguments:', data1[i], data2[i])\n",
    "            print('Correct answer:', correct_answers[i])\n",
    "            print('Your answer:', answer)\n",
    "            return\n",
    "    print('SUCCESS')\n",
    "    \n",
    "test_average(data1, data2, correct_answers)"
   ]
  },
  {
   "cell_type": "markdown",
   "metadata": {},
   "source": [
    "## Part II: Algorithms"
   ]
  },
  {
   "cell_type": "markdown",
   "metadata": {},
   "source": [
    "### Problem 10: Faster factorial"
   ]
  },
  {
   "cell_type": "markdown",
   "metadata": {},
   "source": [
    "Consider the `factorial(n)` function from Problem 2. This function might become slower when `n` is large:"
   ]
  },
  {
   "cell_type": "code",
   "execution_count": 28,
   "metadata": {},
   "outputs": [
    {
     "name": "stdout",
     "output_type": "stream",
     "text": [
      "CPU times: user 2.36 s, sys: 0 ns, total: 2.36 s\n",
      "Wall time: 2.36 s\n"
     ]
    }
   ],
   "source": [
    "%%time\n",
    "x = factorial(10**5)\n",
    "# This takes 4 seconds on my machine.\n",
    "# Do not print any of the numbers computed in this exercise. They are very large and printing them will crash Python."
   ]
  },
  {
   "cell_type": "markdown",
   "metadata": {},
   "source": [
    "Use Python dictionaries so that:\n",
    "* Every time the function is called on an input, it memorizes the output in the dictionary.\n",
    "* If the function is called for the second time on the same input, it looks up the answer in the dictionary instead of computing it from the beginning.\n",
    "This technique is called **memoization**.\n",
    "\n",
    "**Hint** Despite my previous advice, in this problem it is useful to use a global variable. Also look up the dictionary method `dict.get`."
   ]
  },
  {
   "cell_type": "code",
   "execution_count": 29,
   "metadata": {},
   "outputs": [],
   "source": [
    "memo = {}\n",
    "def factorial_memoized(n):\n",
    "    if n == 0 and n == 1:\n",
    "        return 1\n",
    "    if n in memo.keys():\n",
    "        return memo[n]\n",
    "    else:\n",
    "        memo[n] = n *factorial(n - 1)\n",
    "    \n",
    "    return memo[n]\n"
   ]
  },
  {
   "cell_type": "markdown",
   "metadata": {},
   "source": [
    "Compare the times on the following code:"
   ]
  },
  {
   "cell_type": "code",
   "execution_count": 30,
   "metadata": {},
   "outputs": [],
   "source": [
    "n = 10**5+1\n",
    "x = factorial(n)"
   ]
  },
  {
   "cell_type": "code",
   "execution_count": 31,
   "metadata": {},
   "outputs": [
    {
     "name": "stdout",
     "output_type": "stream",
     "text": [
      "CPU times: user 22.7 s, sys: 0 ns, total: 22.7 s\n",
      "Wall time: 22.7 s\n"
     ]
    }
   ],
   "source": [
    "%%time\n",
    "for i in range(10):\n",
    "    y = factorial(n)"
   ]
  },
  {
   "cell_type": "code",
   "execution_count": 32,
   "metadata": {},
   "outputs": [
    {
     "name": "stdout",
     "output_type": "stream",
     "text": [
      "CPU times: user 2.33 s, sys: 0 ns, total: 2.33 s\n",
      "Wall time: 2.33 s\n"
     ]
    }
   ],
   "source": [
    "%%time\n",
    "for i in range(10):\n",
    "    y = factorial_memoized(n)\n",
    "    if x != y:\n",
    "        print('WRONG ANSWER')\n",
    "        break"
   ]
  },
  {
   "cell_type": "markdown",
   "metadata": {},
   "source": [
    "The second code should run at least 10 times faster than the first one."
   ]
  },
  {
   "cell_type": "markdown",
   "metadata": {},
   "source": [
    "**Bonus** Try to improve so that the function runs faster not only if given exactly the same input, but also if it is given a different input which is close to another input which was already computed."
   ]
  },
  {
   "cell_type": "code",
   "execution_count": null,
   "metadata": {},
   "outputs": [],
   "source": [
    "def factorial_improved(n):\n",
    "    pass"
   ]
  },
  {
   "cell_type": "markdown",
   "metadata": {},
   "source": [
    "Test using the following code. The cell with `%%time` should take around the same time as one call to `factorial(n)`."
   ]
  },
  {
   "cell_type": "code",
   "execution_count": 4,
   "metadata": {},
   "outputs": [],
   "source": [
    "n = 10**5+2\n",
    "L = []\n",
    "L.append(factorial(n))\n",
    "for k in range(99):\n",
    "    L.append( L[-1]*(n+k+1) )"
   ]
  },
  {
   "cell_type": "code",
   "execution_count": null,
   "metadata": {
    "scrolled": true
   },
   "outputs": [],
   "source": [
    "%%time\n",
    "for k in range(n, n+100):\n",
    "    x = factorial_improved(k)\n",
    "    if x != L[k-n]:\n",
    "        print('WRONG ANSWER')\n",
    "        break"
   ]
  },
  {
   "cell_type": "markdown",
   "metadata": {},
   "source": [
    "### Problem 11: Fast subproducts"
   ]
  },
  {
   "cell_type": "markdown",
   "metadata": {},
   "source": [
    "Recall the subproduct exercise from Lecture 4. In the lecture we will see the solution to this exercise that runs in time $O(n)$ when all entries are positive $a_i>0$. Extend this solution to the general case, where $a_i$ can be arbitrary real numbers (positive, zero or negative). Test your solution on some data that you generated. The algorithm should return a triple $(i, j, P(i,j))$ denoting the location and value of a minimum subproduct."
   ]
  },
  {
   "cell_type": "code",
   "execution_count": 36,
   "metadata": {},
   "outputs": [],
   "source": [
    "def smallest_subproduct_general(A):\n",
    "    pass\n",
    "\n",
    "        "
   ]
  },
  {
   "cell_type": "markdown",
   "metadata": {},
   "source": [
    "You can test with the code below."
   ]
  },
  {
   "cell_type": "code",
   "execution_count": 37,
   "metadata": {},
   "outputs": [],
   "source": [
    "import numpy as np\n",
    "np.random.seed(3)\n",
    "INPUTS = [\n",
    "    [0.1, 0.3, 2, 0.3, 1.1, 2],\n",
    "    [-0.1, 0.3, 2, -0.3, -1.1, 2],\n",
    "    [2],\n",
    "    [5, 1],\n",
    "    list( np.random.normal(size=100) ),\n",
    "    list( np.random.normal(size=1000) ),\n",
    "    list( np.random.normal(size=10**7) )\n",
    "]\n",
    "correct_answers = [\n",
    "    (0, 3, 0.018),\n",
    "    (4, 5, -2.2),\n",
    "    (0, 0, 2),\n",
    "    (1, 1, 1),\n",
    "    (57, 61, -3.0025970154184027),\n",
    "    (834, 838, -9.12027615840467),\n",
    "    (334406, 334424, -6152.68646331551)\n",
    "]\n",
    "def test_smallest_subproduct(data, correct_answers, f, tolerance=1e-6):\n",
    "    for i in range(len(data)):\n",
    "        answer = f(data[i])\n",
    "        c_answer = correct_answers[i]\n",
    "        if (type(answer) != tuple \n",
    "                or len(answer) != 3 \n",
    "                or answer[0] != c_answer[0]\n",
    "                or answer[1] != c_answer[1]\n",
    "                or abs(answer[2]-c_answer[2]) > tolerance):\n",
    "            print('WRONG ANSWER')\n",
    "            print('Argument:', data[i])\n",
    "            print('Correct answer:', c_answer)\n",
    "            print('Your answer:', answer)\n",
    "            return\n",
    "    print('SUCCESS')"
   ]
  },
  {
   "cell_type": "code",
   "execution_count": 38,
   "metadata": {
    "scrolled": true
   },
   "outputs": [
    {
     "name": "stdout",
     "output_type": "stream",
     "text": [
      "WRONG ANSWER\n",
      "Argument: [0.1, 0.3, 2, 0.3, 1.1, 2]\n",
      "Correct answer: (0, 3, 0.018)\n",
      "Your answer: None\n",
      "CPU times: user 79 µs, sys: 2 µs, total: 81 µs\n",
      "Wall time: 73.9 µs\n"
     ]
    }
   ],
   "source": [
    "%%time\n",
    "test_smallest_subproduct(INPUTS, correct_answers, smallest_subproduct_general)"
   ]
  },
  {
   "cell_type": "markdown",
   "metadata": {},
   "source": [
    "### Problem 12: Maximum submatrix"
   ]
  },
  {
   "cell_type": "markdown",
   "metadata": {},
   "source": [
    "Solve the following problem:\n",
    "\n",
    "INPUT: A matrix with positive integers ``M`` of dimensions ``2n x 2n``.\n",
    "\n",
    "OUTPUT: The maximum sum of a ``n x n`` submatrix of ``M``.\n",
    "\n",
    "Write as fast algorithm as you can. The simplest method is ``O(n^4)``. The best possible is ``O(n^2)``. Other algorithms are also possible, for example ``O(n^3)``. **Focus on the correctness first and efficiency second.** "
   ]
  },
  {
   "cell_type": "code",
   "execution_count": 33,
   "metadata": {},
   "outputs": [],
   "source": [
    "import numpy as np\n",
    "def maximum_matrix(M):\n",
    "    rows = len(M)\n",
    "    columns = len(M[0])\n",
    "    n = rows // 2\n",
    "    max_sum = -np.inf\n",
    "    for k in range (rows - n +1):\n",
    "        for x in range(columns - n + 1):\n",
    "            sub_matrix =0\n",
    "            for i in range(n):\n",
    "                for j in range(n):\n",
    "                    sub_matrix += + M[k+i][x+j]\n",
    "            max_sum = max(sub_matrix, max_sum)\n",
    "    return max_sum\n",
    "    \n",
    "    \n",
    "                \n",
    "    "
   ]
  },
  {
   "cell_type": "code",
   "execution_count": 34,
   "metadata": {},
   "outputs": [
    {
     "name": "stdout",
     "output_type": "stream",
     "text": [
      "SUCCESS\n"
     ]
    }
   ],
   "source": [
    "# If your code is too slow, you can comment out the larger tests.\n",
    "def generate_pseudorandom_matrix(n):\n",
    "    m = 134456\n",
    "    a = 8121\n",
    "    b = 28411\n",
    "    current = 91\n",
    "    \n",
    "    L = []\n",
    "    for r in range(2*n):\n",
    "        L.append([])\n",
    "        for c in range(2*n):\n",
    "            L[r].append( current )\n",
    "            current = (a*current+b)%m\n",
    "    return L\n",
    "\n",
    "data = [\n",
    "    [ [1, -1], [0, 3] ],\n",
    "    [ [1, 2, 3, 4], [5, 6, 7, 9], [2, 1, -3, 5], [1, 3, 1, -2] ],\n",
    "    generate_pseudorandom_matrix(41),\n",
    "    generate_pseudorandom_matrix(99),\n",
    "    #generate_pseudorandom_matrix(999),\n",
    "]\n",
    "correct_answers = [ 3, 23, 116796717, 667424478, 67110262708 ]\n",
    "\n",
    "test_function(data, correct_answers, maximum_matrix)"
   ]
  },
  {
   "cell_type": "markdown",
   "metadata": {},
   "source": [
    "### Problem 13: Scheduling classrooms"
   ]
  },
  {
   "cell_type": "markdown",
   "metadata": {},
   "source": [
    "You are the head tutor in charge of AIMS schedule. The building has $k$ classrooms numbered from 1 to $k$ and you are given a list of $n$ lectures. Each lecture is a pair of integers $(s_i, f_i)$ where $s_i$ is the starting time and $f_i$ the finishing time of the lecture, $0\\le s_i\\le f_i\\le 10^6$. Your task is to assign classrooms to lectures, so that no two lectures that overlap in time are assigned to the same room. If one lecture finishes at exactly the same time as another lecture starts, you are allowed to place them in the same room.\n",
    "\n",
    "Return a list of $n$ integers, where for every lecture you specify the room. If it is not possible to schedule all lectures, return the integer $-1$."
   ]
  },
  {
   "cell_type": "code",
   "execution_count": 35,
   "metadata": {},
   "outputs": [
    {
     "name": "stdout",
     "output_type": "stream",
     "text": [
      "[1, 1]\n"
     ]
    }
   ],
   "source": [
    "def schedule_classes(k, L):\n",
    "    n = len(L)\n",
    "    L.sort()\n",
    "    assigned_room =[]\n",
    "    for _ in range(n):\n",
    "         assigned_room.append(0)\n",
    "            \n",
    "    end_time =[]\n",
    "    for _ in range(k):\n",
    "         end_time.append(0)\n",
    "            \n",
    "    if k >= n:\n",
    "        return list(range( n + 1))\n",
    "    \n",
    "    for i in range(n):\n",
    "        start_lecture = L[i][0]\n",
    "        end_lecture = L[i][1]\n",
    "        assigned = False\n",
    "        \n",
    "        for j in range(k):\n",
    "            if end_time[j] <= start_lecture:\n",
    "                \n",
    "                assigned_room[i] = j + 1\n",
    "                end_time[j] = end_lecture\n",
    "                assigned = True\n",
    "                break\n",
    "        \n",
    "        else:\n",
    "            return -1\n",
    "    \n",
    "    return assigned_room\n",
    "\n",
    "\n",
    "k = 1 \n",
    "L = [(3, 5), (1, 3)] \n",
    "print(schedule_classes(k, L))  \n"
   ]
  },
  {
   "cell_type": "markdown",
   "metadata": {},
   "source": [
    "**Examples** On input `k=1` and `L=[(3, 5), (1, 3)]`, the output should be\n",
    "`[1, 1]`, as you have to put all lectures in the only classroom available. It is fine that the first lecture starts at the same time as the second lecture ends.\n",
    "\n",
    "For input `k=1` and `L=[(3, 6), (1, 4)]`, the output is `-1`, as from time 3 to 4 there are two lectures at the same time.\n",
    "\n",
    "For `k=2` and `L=[(3, 6), (1, 4)]`, the output can be `[1, 2]`. However, it is not the only correct output.\n",
    "\n",
    "For `k=2` and `L=[(4, 7), (9, 12), (5, 8), (2, 5), (1, 3)]`, a correct output is `[1, 1, 2, 2, 1]`. Again, the correct output is not unique."
   ]
  }
 ],
 "metadata": {
  "kernelspec": {
   "display_name": "Python 3 (ipykernel)",
   "language": "python",
   "name": "python3"
  },
  "language_info": {
   "codemirror_mode": {
    "name": "ipython",
    "version": 3
   },
   "file_extension": ".py",
   "mimetype": "text/x-python",
   "name": "python",
   "nbconvert_exporter": "python",
   "pygments_lexer": "ipython3",
   "version": "3.11.2"
  }
 },
 "nbformat": 4,
 "nbformat_minor": 4
}
